{
 "metadata": {
  "language_info": {
   "codemirror_mode": {
    "name": "ipython",
    "version": 3
   },
   "file_extension": ".py",
   "mimetype": "text/x-python",
   "name": "python",
   "nbconvert_exporter": "python",
   "pygments_lexer": "ipython3",
   "version": 3
  },
  "orig_nbformat": 2,
  "kernelspec": {
   "name": "python_defaultSpec_1595957020695",
   "display_name": "Python 3.7.6 64-bit ('base': conda)"
  }
 },
 "nbformat": 4,
 "nbformat_minor": 2,
 "cells": [
  {
   "cell_type": "code",
   "execution_count": 1,
   "metadata": {},
   "outputs": [],
   "source": [
    "import pandas as pd\n",
    "import numpy as np"
   ]
  },
  {
   "cell_type": "code",
   "execution_count": 2,
   "metadata": {},
   "outputs": [
    {
     "output_type": "execute_result",
     "data": {
      "text/plain": "     RequestID   StartDate     EndDate            AgencyName  \\\n0  20100628021  07/06/2010  07/06/2010        Transportation   \n1  20130214010  02/22/2013  02/22/2013  Parks and Recreation   \n2  20090911004  09/18/2009  09/18/2009        Transportation   \n3  20130415019  04/22/2013  04/22/2013  Parks and Recreation   \n4  20110623031  06/24/2011  06/24/2011        Transportation   \n\n  TypeOfNoticeDescription                   CategoryDescription  \\\n0                   Award  Services (other than human services)   \n1                   Award  Services (other than human services)   \n2                   Award  Services (other than human services)   \n3                   Award                                 Goods   \n4                   Award  Services (other than human services)   \n\n                                          ShortTitle  \\\n0  NOTICE OF AWARD OF CONCESSION AT EAST RIVER PI...   \n1  DEPARTMENT OF PARKS  AND  RECREATION NOTICE OF...   \n2  OPERATION, MANAGEMENT, AND MAINTENANCE OF PEDE...   \n3                                    NOTICE OF AWARD   \n4              AIRPORT BUS FRANCHISE NOTICE OF AWARD   \n\n  SelectionMethodDescription  SectionName  \\\n0    Competitive Sealed Bids  Procurement   \n1                 Public Bid  Procurement   \n2                Sole Source  Procurement   \n3                 Public Bid  Procurement   \n4      Request for Proposals  Procurement   \n\n                        SpecialCaseReasonDescription  ... Printout2  \\\n0                                                NaN  ...       NaN   \n1                                                NaN  ...       NaN   \n2  Other (Describe below in Other Legally Mandate...  ...       NaN   \n3                                                NaN  ...       NaN   \n4                                                NaN  ...       NaN   \n\n   Printout3                                      DocumentLinks EventDate  \\\n0        NaN  https://a856-cityrecord.nyc.gov/Search/GetFile...       NaN   \n1        NaN  https://a856-cityrecord.nyc.gov/Search/GetFile...       NaN   \n2        NaN  https://a856-cityrecord.nyc.gov/Search/GetFile...       NaN   \n3        NaN  https://a856-cityrecord.nyc.gov/Search/GetFile...       NaN   \n4        NaN  https://a856-cityrecord.nyc.gov/Search/GetFile...       NaN   \n\n  EventBuildingName EventStreetAddress1  EventStreetAddress2  EventCity  \\\n0               NaN                 NaN                  NaN        NaN   \n1               NaN                 NaN                  NaN        NaN   \n2               NaN                 NaN                  NaN        NaN   \n3               NaN                 NaN                  NaN        NaN   \n4               NaN                 NaN                  NaN        NaN   \n\n  EventStateCode  EventZipCode  \n0            NaN           NaN  \n1            NaN           NaN  \n2            NaN           NaN  \n3            NaN           NaN  \n4            NaN           NaN  \n\n[5 rows x 37 columns]",
      "text/html": "<div>\n<style scoped>\n    .dataframe tbody tr th:only-of-type {\n        vertical-align: middle;\n    }\n\n    .dataframe tbody tr th {\n        vertical-align: top;\n    }\n\n    .dataframe thead th {\n        text-align: right;\n    }\n</style>\n<table border=\"1\" class=\"dataframe\">\n  <thead>\n    <tr style=\"text-align: right;\">\n      <th></th>\n      <th>RequestID</th>\n      <th>StartDate</th>\n      <th>EndDate</th>\n      <th>AgencyName</th>\n      <th>TypeOfNoticeDescription</th>\n      <th>CategoryDescription</th>\n      <th>ShortTitle</th>\n      <th>SelectionMethodDescription</th>\n      <th>SectionName</th>\n      <th>SpecialCaseReasonDescription</th>\n      <th>...</th>\n      <th>Printout2</th>\n      <th>Printout3</th>\n      <th>DocumentLinks</th>\n      <th>EventDate</th>\n      <th>EventBuildingName</th>\n      <th>EventStreetAddress1</th>\n      <th>EventStreetAddress2</th>\n      <th>EventCity</th>\n      <th>EventStateCode</th>\n      <th>EventZipCode</th>\n    </tr>\n  </thead>\n  <tbody>\n    <tr>\n      <th>0</th>\n      <td>20100628021</td>\n      <td>07/06/2010</td>\n      <td>07/06/2010</td>\n      <td>Transportation</td>\n      <td>Award</td>\n      <td>Services (other than human services)</td>\n      <td>NOTICE OF AWARD OF CONCESSION AT EAST RIVER PI...</td>\n      <td>Competitive Sealed Bids</td>\n      <td>Procurement</td>\n      <td>NaN</td>\n      <td>...</td>\n      <td>NaN</td>\n      <td>NaN</td>\n      <td>https://a856-cityrecord.nyc.gov/Search/GetFile...</td>\n      <td>NaN</td>\n      <td>NaN</td>\n      <td>NaN</td>\n      <td>NaN</td>\n      <td>NaN</td>\n      <td>NaN</td>\n      <td>NaN</td>\n    </tr>\n    <tr>\n      <th>1</th>\n      <td>20130214010</td>\n      <td>02/22/2013</td>\n      <td>02/22/2013</td>\n      <td>Parks and Recreation</td>\n      <td>Award</td>\n      <td>Services (other than human services)</td>\n      <td>DEPARTMENT OF PARKS  AND  RECREATION NOTICE OF...</td>\n      <td>Public Bid</td>\n      <td>Procurement</td>\n      <td>NaN</td>\n      <td>...</td>\n      <td>NaN</td>\n      <td>NaN</td>\n      <td>https://a856-cityrecord.nyc.gov/Search/GetFile...</td>\n      <td>NaN</td>\n      <td>NaN</td>\n      <td>NaN</td>\n      <td>NaN</td>\n      <td>NaN</td>\n      <td>NaN</td>\n      <td>NaN</td>\n    </tr>\n    <tr>\n      <th>2</th>\n      <td>20090911004</td>\n      <td>09/18/2009</td>\n      <td>09/18/2009</td>\n      <td>Transportation</td>\n      <td>Award</td>\n      <td>Services (other than human services)</td>\n      <td>OPERATION, MANAGEMENT, AND MAINTENANCE OF PEDE...</td>\n      <td>Sole Source</td>\n      <td>Procurement</td>\n      <td>Other (Describe below in Other Legally Mandate...</td>\n      <td>...</td>\n      <td>NaN</td>\n      <td>NaN</td>\n      <td>https://a856-cityrecord.nyc.gov/Search/GetFile...</td>\n      <td>NaN</td>\n      <td>NaN</td>\n      <td>NaN</td>\n      <td>NaN</td>\n      <td>NaN</td>\n      <td>NaN</td>\n      <td>NaN</td>\n    </tr>\n    <tr>\n      <th>3</th>\n      <td>20130415019</td>\n      <td>04/22/2013</td>\n      <td>04/22/2013</td>\n      <td>Parks and Recreation</td>\n      <td>Award</td>\n      <td>Goods</td>\n      <td>NOTICE OF AWARD</td>\n      <td>Public Bid</td>\n      <td>Procurement</td>\n      <td>NaN</td>\n      <td>...</td>\n      <td>NaN</td>\n      <td>NaN</td>\n      <td>https://a856-cityrecord.nyc.gov/Search/GetFile...</td>\n      <td>NaN</td>\n      <td>NaN</td>\n      <td>NaN</td>\n      <td>NaN</td>\n      <td>NaN</td>\n      <td>NaN</td>\n      <td>NaN</td>\n    </tr>\n    <tr>\n      <th>4</th>\n      <td>20110623031</td>\n      <td>06/24/2011</td>\n      <td>06/24/2011</td>\n      <td>Transportation</td>\n      <td>Award</td>\n      <td>Services (other than human services)</td>\n      <td>AIRPORT BUS FRANCHISE NOTICE OF AWARD</td>\n      <td>Request for Proposals</td>\n      <td>Procurement</td>\n      <td>NaN</td>\n      <td>...</td>\n      <td>NaN</td>\n      <td>NaN</td>\n      <td>https://a856-cityrecord.nyc.gov/Search/GetFile...</td>\n      <td>NaN</td>\n      <td>NaN</td>\n      <td>NaN</td>\n      <td>NaN</td>\n      <td>NaN</td>\n      <td>NaN</td>\n      <td>NaN</td>\n    </tr>\n  </tbody>\n</table>\n<p>5 rows × 37 columns</p>\n</div>"
     },
     "metadata": {},
     "execution_count": 2
    }
   ],
   "source": [
    "data = pd.read_csv('Recent_Contract_Awards.csv')\n",
    "data.head()"
   ]
  },
  {
   "cell_type": "code",
   "execution_count": 3,
   "metadata": {},
   "outputs": [
    {
     "output_type": "execute_result",
     "data": {
      "text/plain": "(35528, 37)"
     },
     "metadata": {},
     "execution_count": 3
    }
   ],
   "source": [
    "data.shape"
   ]
  },
  {
   "cell_type": "code",
   "execution_count": 4,
   "metadata": {
    "tags": []
   },
   "outputs": [],
   "source": [
    "data2 = pd.DataFrame([str(i).split('/')[-1] for i in data['StartDate']])\n",
    "data2['StartYear'] = data2.astype('int')"
   ]
  },
  {
   "cell_type": "code",
   "execution_count": 5,
   "metadata": {},
   "outputs": [],
   "source": [
    "data.insert(1,'StartYear',data2['StartYear'])"
   ]
  },
  {
   "cell_type": "code",
   "execution_count": 6,
   "metadata": {},
   "outputs": [
    {
     "output_type": "execute_result",
     "data": {
      "text/plain": "     RequestID  StartYear   StartDate     EndDate            AgencyName  \\\n0  20100628021       2010  07/06/2010  07/06/2010        Transportation   \n1  20130214010       2013  02/22/2013  02/22/2013  Parks and Recreation   \n2  20090911004       2009  09/18/2009  09/18/2009        Transportation   \n3  20130415019       2013  04/22/2013  04/22/2013  Parks and Recreation   \n4  20110623031       2011  06/24/2011  06/24/2011        Transportation   \n\n  TypeOfNoticeDescription                   CategoryDescription  \\\n0                   Award  Services (other than human services)   \n1                   Award  Services (other than human services)   \n2                   Award  Services (other than human services)   \n3                   Award                                 Goods   \n4                   Award  Services (other than human services)   \n\n                                          ShortTitle  \\\n0  NOTICE OF AWARD OF CONCESSION AT EAST RIVER PI...   \n1  DEPARTMENT OF PARKS  AND  RECREATION NOTICE OF...   \n2  OPERATION, MANAGEMENT, AND MAINTENANCE OF PEDE...   \n3                                    NOTICE OF AWARD   \n4              AIRPORT BUS FRANCHISE NOTICE OF AWARD   \n\n  SelectionMethodDescription  SectionName  ... Printout2 Printout3  \\\n0    Competitive Sealed Bids  Procurement  ...       NaN       NaN   \n1                 Public Bid  Procurement  ...       NaN       NaN   \n2                Sole Source  Procurement  ...       NaN       NaN   \n3                 Public Bid  Procurement  ...       NaN       NaN   \n4      Request for Proposals  Procurement  ...       NaN       NaN   \n\n                                       DocumentLinks EventDate  \\\n0  https://a856-cityrecord.nyc.gov/Search/GetFile...       NaN   \n1  https://a856-cityrecord.nyc.gov/Search/GetFile...       NaN   \n2  https://a856-cityrecord.nyc.gov/Search/GetFile...       NaN   \n3  https://a856-cityrecord.nyc.gov/Search/GetFile...       NaN   \n4  https://a856-cityrecord.nyc.gov/Search/GetFile...       NaN   \n\n  EventBuildingName EventStreetAddress1 EventStreetAddress2  EventCity  \\\n0               NaN                 NaN                 NaN        NaN   \n1               NaN                 NaN                 NaN        NaN   \n2               NaN                 NaN                 NaN        NaN   \n3               NaN                 NaN                 NaN        NaN   \n4               NaN                 NaN                 NaN        NaN   \n\n   EventStateCode EventZipCode  \n0             NaN          NaN  \n1             NaN          NaN  \n2             NaN          NaN  \n3             NaN          NaN  \n4             NaN          NaN  \n\n[5 rows x 38 columns]",
      "text/html": "<div>\n<style scoped>\n    .dataframe tbody tr th:only-of-type {\n        vertical-align: middle;\n    }\n\n    .dataframe tbody tr th {\n        vertical-align: top;\n    }\n\n    .dataframe thead th {\n        text-align: right;\n    }\n</style>\n<table border=\"1\" class=\"dataframe\">\n  <thead>\n    <tr style=\"text-align: right;\">\n      <th></th>\n      <th>RequestID</th>\n      <th>StartYear</th>\n      <th>StartDate</th>\n      <th>EndDate</th>\n      <th>AgencyName</th>\n      <th>TypeOfNoticeDescription</th>\n      <th>CategoryDescription</th>\n      <th>ShortTitle</th>\n      <th>SelectionMethodDescription</th>\n      <th>SectionName</th>\n      <th>...</th>\n      <th>Printout2</th>\n      <th>Printout3</th>\n      <th>DocumentLinks</th>\n      <th>EventDate</th>\n      <th>EventBuildingName</th>\n      <th>EventStreetAddress1</th>\n      <th>EventStreetAddress2</th>\n      <th>EventCity</th>\n      <th>EventStateCode</th>\n      <th>EventZipCode</th>\n    </tr>\n  </thead>\n  <tbody>\n    <tr>\n      <th>0</th>\n      <td>20100628021</td>\n      <td>2010</td>\n      <td>07/06/2010</td>\n      <td>07/06/2010</td>\n      <td>Transportation</td>\n      <td>Award</td>\n      <td>Services (other than human services)</td>\n      <td>NOTICE OF AWARD OF CONCESSION AT EAST RIVER PI...</td>\n      <td>Competitive Sealed Bids</td>\n      <td>Procurement</td>\n      <td>...</td>\n      <td>NaN</td>\n      <td>NaN</td>\n      <td>https://a856-cityrecord.nyc.gov/Search/GetFile...</td>\n      <td>NaN</td>\n      <td>NaN</td>\n      <td>NaN</td>\n      <td>NaN</td>\n      <td>NaN</td>\n      <td>NaN</td>\n      <td>NaN</td>\n    </tr>\n    <tr>\n      <th>1</th>\n      <td>20130214010</td>\n      <td>2013</td>\n      <td>02/22/2013</td>\n      <td>02/22/2013</td>\n      <td>Parks and Recreation</td>\n      <td>Award</td>\n      <td>Services (other than human services)</td>\n      <td>DEPARTMENT OF PARKS  AND  RECREATION NOTICE OF...</td>\n      <td>Public Bid</td>\n      <td>Procurement</td>\n      <td>...</td>\n      <td>NaN</td>\n      <td>NaN</td>\n      <td>https://a856-cityrecord.nyc.gov/Search/GetFile...</td>\n      <td>NaN</td>\n      <td>NaN</td>\n      <td>NaN</td>\n      <td>NaN</td>\n      <td>NaN</td>\n      <td>NaN</td>\n      <td>NaN</td>\n    </tr>\n    <tr>\n      <th>2</th>\n      <td>20090911004</td>\n      <td>2009</td>\n      <td>09/18/2009</td>\n      <td>09/18/2009</td>\n      <td>Transportation</td>\n      <td>Award</td>\n      <td>Services (other than human services)</td>\n      <td>OPERATION, MANAGEMENT, AND MAINTENANCE OF PEDE...</td>\n      <td>Sole Source</td>\n      <td>Procurement</td>\n      <td>...</td>\n      <td>NaN</td>\n      <td>NaN</td>\n      <td>https://a856-cityrecord.nyc.gov/Search/GetFile...</td>\n      <td>NaN</td>\n      <td>NaN</td>\n      <td>NaN</td>\n      <td>NaN</td>\n      <td>NaN</td>\n      <td>NaN</td>\n      <td>NaN</td>\n    </tr>\n    <tr>\n      <th>3</th>\n      <td>20130415019</td>\n      <td>2013</td>\n      <td>04/22/2013</td>\n      <td>04/22/2013</td>\n      <td>Parks and Recreation</td>\n      <td>Award</td>\n      <td>Goods</td>\n      <td>NOTICE OF AWARD</td>\n      <td>Public Bid</td>\n      <td>Procurement</td>\n      <td>...</td>\n      <td>NaN</td>\n      <td>NaN</td>\n      <td>https://a856-cityrecord.nyc.gov/Search/GetFile...</td>\n      <td>NaN</td>\n      <td>NaN</td>\n      <td>NaN</td>\n      <td>NaN</td>\n      <td>NaN</td>\n      <td>NaN</td>\n      <td>NaN</td>\n    </tr>\n    <tr>\n      <th>4</th>\n      <td>20110623031</td>\n      <td>2011</td>\n      <td>06/24/2011</td>\n      <td>06/24/2011</td>\n      <td>Transportation</td>\n      <td>Award</td>\n      <td>Services (other than human services)</td>\n      <td>AIRPORT BUS FRANCHISE NOTICE OF AWARD</td>\n      <td>Request for Proposals</td>\n      <td>Procurement</td>\n      <td>...</td>\n      <td>NaN</td>\n      <td>NaN</td>\n      <td>https://a856-cityrecord.nyc.gov/Search/GetFile...</td>\n      <td>NaN</td>\n      <td>NaN</td>\n      <td>NaN</td>\n      <td>NaN</td>\n      <td>NaN</td>\n      <td>NaN</td>\n      <td>NaN</td>\n    </tr>\n  </tbody>\n</table>\n<p>5 rows × 38 columns</p>\n</div>"
     },
     "metadata": {},
     "execution_count": 6
    }
   ],
   "source": [
    "data.head()"
   ]
  },
  {
   "cell_type": "code",
   "execution_count": 7,
   "metadata": {
    "tags": []
   },
   "outputs": [
    {
     "output_type": "stream",
     "name": "stdout",
     "text": "(19134, 38)\n"
    }
   ],
   "source": [
    "data = data[data['StartYear'] >= 2010]\n",
    "data = data[data['StartYear'] <= 2019]\n",
    "print(data.shape)"
   ]
  },
  {
   "cell_type": "code",
   "execution_count": 8,
   "metadata": {},
   "outputs": [
    {
     "output_type": "execute_result",
     "data": {
      "text/plain": "(18198, 38)"
     },
     "metadata": {},
     "execution_count": 8
    }
   ],
   "source": [
    "data = data[data['ContractAmount'] > 0]\n",
    "data.shape"
   ]
  },
  {
   "cell_type": "code",
   "execution_count": 9,
   "metadata": {},
   "outputs": [],
   "source": [
    "data = data[data['ContractAmount'].notnull()]"
   ]
  },
  {
   "cell_type": "code",
   "execution_count": 10,
   "metadata": {},
   "outputs": [
    {
     "output_type": "execute_result",
     "data": {
      "text/plain": "207783994327.83997"
     },
     "metadata": {},
     "execution_count": 10
    }
   ],
   "source": [
    "data['ContractAmount'].sum(axis=0)"
   ]
  },
  {
   "cell_type": "code",
   "execution_count": 11,
   "metadata": {},
   "outputs": [
    {
     "output_type": "execute_result",
     "data": {
      "text/plain": "Index(['RequestID', 'StartYear', 'StartDate', 'EndDate', 'AgencyName',\n       'TypeOfNoticeDescription', 'CategoryDescription', 'ShortTitle',\n       'SelectionMethodDescription', 'SectionName',\n       'SpecialCaseReasonDescription', 'PIN', 'DueDate', 'AddressToRequest',\n       'ContactName', 'ContactPhone', 'Email', 'ContractAmount', 'ContactFax',\n       'AdditionalDescription1', 'AdditionalDesctription2',\n       'AdditionalDescription3', 'OtherInfo1', 'OtherInfo2', 'OtherInfo3',\n       'VendorName', 'VendorAddress', 'Printout1', 'Printout2', 'Printout3',\n       'DocumentLinks', 'EventDate', 'EventBuildingName',\n       'EventStreetAddress1', 'EventStreetAddress2', 'EventCity',\n       'EventStateCode', 'EventZipCode'],\n      dtype='object')"
     },
     "metadata": {},
     "execution_count": 11
    }
   ],
   "source": [
    "data.columns"
   ]
  },
  {
   "cell_type": "code",
   "execution_count": 12,
   "metadata": {},
   "outputs": [
    {
     "output_type": "execute_result",
     "data": {
      "text/plain": "array(['Transportation', 'Parks and Recreation',\n       \"Employees' Retirement System\", 'Sanitation', 'Board of Elections',\n       'Consumer Affairs', 'Housing Preservation and Development',\n       'Dept Of Social Svcs/Human Resources Administration',\n       'Environmental Protection', 'Correction',\n       'Citywide Administrative Services', 'Police',\n       'Health and Mental Hygiene', 'Design and Construction',\n       'Commission on Human Rights', 'Aging', 'Finance',\n       'Cultural Affairs', 'Financial Information Services Agency',\n       'Chief Medical Examiner', 'New York City Police Pension Fund',\n       'Buildings', 'District Attorney - Kings County',\n       'Battery Park City Authority', 'Human Resources Administration',\n       'Probation', 'Office of Payroll Administration',\n       'Office of Labor Relations', 'City University',\n       'Taxi and Limousine Commission', 'Emergency Management',\n       'Civilian Complaint Review Board',\n       'District Attorney - Bronx County', 'Law Department',\n       'Fire Department', 'Administrative Trials and Hearings',\n       \"Teachers' Retirement System\",\n       \"Mayor's Office of Criminal Justice\", 'Homeless Services',\n       'Office of the Mayor', 'City Planning', 'Board of Correction',\n       'Comptroller', 'Office of Special Narcotics Prose',\n       'Office of Management and Budget', 'City Council',\n       'Borough President - Manhattan',\n       'Information Technology and Telecommunications',\n       'District Attorney - New York County',\n       'Office of Collective Bargaining',\n       'Records and Information Services', 'City Clerk',\n       'Youth and Community Development',\n       'Landmarks Preservation Commission', 'Investigation',\n       \"Veterans' Services\", 'Small Business Services',\n       \"Administration for Children's Services\",\n       'Borough President - Queens', 'Education',\n       'Campaign Finance Board', 'Juvenile Justice',\n       'Independent Budget Office', 'Economic Development Corporation'],\n      dtype=object)"
     },
     "metadata": {},
     "execution_count": 12
    }
   ],
   "source": [
    "data['AgencyName'].unique()"
   ]
  },
  {
   "cell_type": "code",
   "execution_count": 13,
   "metadata": {},
   "outputs": [],
   "source": [
    "data_procurement = data[data['AgencyName'] ==  'Citywide Administrative Services']\n",
    "data_procurement2 = data_procurement[['AgencyName','VendorName','ContractAmount']]"
   ]
  },
  {
   "cell_type": "code",
   "execution_count": 14,
   "metadata": {},
   "outputs": [],
   "source": [
    "grouped_data_procurement = data_procurement2.groupby(['VendorName'],as_index=False).sum()"
   ]
  },
  {
   "cell_type": "code",
   "execution_count": 15,
   "metadata": {},
   "outputs": [],
   "source": [
    "grouped_data_procurement.sort_values('ContractAmount',ascending = False,inplace=True)"
   ]
  },
  {
   "cell_type": "code",
   "execution_count": 16,
   "metadata": {},
   "outputs": [],
   "source": [
    "grouped_data_procurement = grouped_data_procurement.reset_index()"
   ]
  },
  {
   "cell_type": "code",
   "execution_count": 17,
   "metadata": {},
   "outputs": [
    {
     "output_type": "execute_result",
     "data": {
      "text/plain": "                                    VendorName  ContractAmount\n0     Power Authority Of The State Of New York    6.684100e+09\n1                       Castle Oil Corporation    4.765222e+08\n2                        Genuine Parts Company    3.541815e+08\n3        Securitas Security Services USA, Inc.    3.070000e+08\n4                              Mack Trucks Inc    2.841531e+08\n...                                        ...             ...\n3149            TERI NICHOLS INSTITUTIONAL FOO    6.740000e+02\n3150             U S Bank National Association    4.000000e+00\n3151                          The Public Group    1.000000e+00\n3152                            See List Below    1.000000e+00\n3153                      FIA Card Services NA    1.000000e-02\n\n[3154 rows x 2 columns]",
      "text/html": "<div>\n<style scoped>\n    .dataframe tbody tr th:only-of-type {\n        vertical-align: middle;\n    }\n\n    .dataframe tbody tr th {\n        vertical-align: top;\n    }\n\n    .dataframe thead th {\n        text-align: right;\n    }\n</style>\n<table border=\"1\" class=\"dataframe\">\n  <thead>\n    <tr style=\"text-align: right;\">\n      <th></th>\n      <th>VendorName</th>\n      <th>ContractAmount</th>\n    </tr>\n  </thead>\n  <tbody>\n    <tr>\n      <th>0</th>\n      <td>Power Authority Of The State Of New York</td>\n      <td>6.684100e+09</td>\n    </tr>\n    <tr>\n      <th>1</th>\n      <td>Castle Oil Corporation</td>\n      <td>4.765222e+08</td>\n    </tr>\n    <tr>\n      <th>2</th>\n      <td>Genuine Parts Company</td>\n      <td>3.541815e+08</td>\n    </tr>\n    <tr>\n      <th>3</th>\n      <td>Securitas Security Services USA, Inc.</td>\n      <td>3.070000e+08</td>\n    </tr>\n    <tr>\n      <th>4</th>\n      <td>Mack Trucks Inc</td>\n      <td>2.841531e+08</td>\n    </tr>\n    <tr>\n      <th>...</th>\n      <td>...</td>\n      <td>...</td>\n    </tr>\n    <tr>\n      <th>3149</th>\n      <td>TERI NICHOLS INSTITUTIONAL FOO</td>\n      <td>6.740000e+02</td>\n    </tr>\n    <tr>\n      <th>3150</th>\n      <td>U S Bank National Association</td>\n      <td>4.000000e+00</td>\n    </tr>\n    <tr>\n      <th>3151</th>\n      <td>The Public Group</td>\n      <td>1.000000e+00</td>\n    </tr>\n    <tr>\n      <th>3152</th>\n      <td>See List Below</td>\n      <td>1.000000e+00</td>\n    </tr>\n    <tr>\n      <th>3153</th>\n      <td>FIA Card Services NA</td>\n      <td>1.000000e-02</td>\n    </tr>\n  </tbody>\n</table>\n<p>3154 rows × 2 columns</p>\n</div>"
     },
     "metadata": {},
     "execution_count": 17
    }
   ],
   "source": [
    "grouped_data_procurement.drop('index',axis=1)"
   ]
  },
  {
   "cell_type": "code",
   "execution_count": 18,
   "metadata": {
    "tags": []
   },
   "outputs": [
    {
     "output_type": "stream",
     "name": "stdout",
     "text": "0.6361324095814836\n"
    }
   ],
   "source": [
    "print(grouped_data_procurement['ContractAmount'][0:50].sum()/grouped_data_procurement['ContractAmount'].sum())"
   ]
  },
  {
   "cell_type": "code",
   "execution_count": 19,
   "metadata": {},
   "outputs": [
    {
     "output_type": "execute_result",
     "data": {
      "text/plain": "(18198, 38)"
     },
     "metadata": {},
     "execution_count": 19
    }
   ],
   "source": [
    "data.shape"
   ]
  },
  {
   "cell_type": "code",
   "execution_count": 20,
   "metadata": {},
   "outputs": [
    {
     "output_type": "execute_result",
     "data": {
      "text/plain": "Index(['RequestID', 'StartYear', 'StartDate', 'EndDate', 'AgencyName',\n       'TypeOfNoticeDescription', 'CategoryDescription', 'ShortTitle',\n       'SelectionMethodDescription', 'SectionName',\n       'SpecialCaseReasonDescription', 'PIN', 'DueDate', 'AddressToRequest',\n       'ContactName', 'ContactPhone', 'Email', 'ContractAmount', 'ContactFax',\n       'AdditionalDescription1', 'AdditionalDesctription2',\n       'AdditionalDescription3', 'OtherInfo1', 'OtherInfo2', 'OtherInfo3',\n       'VendorName', 'VendorAddress', 'Printout1', 'Printout2', 'Printout3',\n       'DocumentLinks', 'EventDate', 'EventBuildingName',\n       'EventStreetAddress1', 'EventStreetAddress2', 'EventCity',\n       'EventStateCode', 'EventZipCode'],\n      dtype='object')"
     },
     "metadata": {},
     "execution_count": 20
    }
   ],
   "source": [
    "data.columns"
   ]
  },
  {
   "cell_type": "code",
   "execution_count": 21,
   "metadata": {},
   "outputs": [
    {
     "output_type": "execute_result",
     "data": {
      "text/plain": "array(['Services (other than human services)', 'Goods',\n       'Goods and Services', 'Human Services/Client Services',\n       'Construction/Construction Services',\n       'Construction Related Services'], dtype=object)"
     },
     "metadata": {},
     "execution_count": 21
    }
   ],
   "source": [
    "data['CategoryDescription'].unique()"
   ]
  },
  {
   "cell_type": "code",
   "execution_count": 22,
   "metadata": {},
   "outputs": [],
   "source": [
    "list_contracts = []\n",
    "\n",
    "for i,j,k in zip(data['CategoryDescription'],data['ContractAmount'], data['ShortTitle']):\n",
    "    if i=='Construction/Construction Services' or i=='Construction Related Services':\n",
    "        list_contracts.append([i,j,k])"
   ]
  },
  {
   "cell_type": "code",
   "execution_count": 23,
   "metadata": {
    "tags": []
   },
   "outputs": [
    {
     "output_type": "execute_result",
     "data": {
      "text/plain": "                  CategoryDescription  ContractAmount  \\\n0  Construction/Construction Services        474986.0   \n1  Construction/Construction Services       3695800.0   \n2  Construction/Construction Services        650000.0   \n3  Construction/Construction Services        470400.0   \n4       Construction Related Services        500000.0   \n\n                                          ShortTitle  \n0  REQUIREMENTS CONTRACT FOR UPGRADING OF UNDERGR...  \n1  CRO-536 DES: DESIGN SERVICES FOR CROSS RIVER A...  \n2  DORM \u001aK\u001a ELEVATOR REPLACEMENT AT ANNA M. KROSS...  \n3                           NON-EMERGENCY DEMOLITION  \n4  INSTALLATION AND REPAIR OF SIDEWALK SHEDS BID#...  ",
      "text/html": "<div>\n<style scoped>\n    .dataframe tbody tr th:only-of-type {\n        vertical-align: middle;\n    }\n\n    .dataframe tbody tr th {\n        vertical-align: top;\n    }\n\n    .dataframe thead th {\n        text-align: right;\n    }\n</style>\n<table border=\"1\" class=\"dataframe\">\n  <thead>\n    <tr style=\"text-align: right;\">\n      <th></th>\n      <th>CategoryDescription</th>\n      <th>ContractAmount</th>\n      <th>ShortTitle</th>\n    </tr>\n  </thead>\n  <tbody>\n    <tr>\n      <th>0</th>\n      <td>Construction/Construction Services</td>\n      <td>474986.0</td>\n      <td>REQUIREMENTS CONTRACT FOR UPGRADING OF UNDERGR...</td>\n    </tr>\n    <tr>\n      <th>1</th>\n      <td>Construction/Construction Services</td>\n      <td>3695800.0</td>\n      <td>CRO-536 DES: DESIGN SERVICES FOR CROSS RIVER A...</td>\n    </tr>\n    <tr>\n      <th>2</th>\n      <td>Construction/Construction Services</td>\n      <td>650000.0</td>\n      <td>DORM \u001aK\u001a ELEVATOR REPLACEMENT AT ANNA M. KROSS...</td>\n    </tr>\n    <tr>\n      <th>3</th>\n      <td>Construction/Construction Services</td>\n      <td>470400.0</td>\n      <td>NON-EMERGENCY DEMOLITION</td>\n    </tr>\n    <tr>\n      <th>4</th>\n      <td>Construction Related Services</td>\n      <td>500000.0</td>\n      <td>INSTALLATION AND REPAIR OF SIDEWALK SHEDS BID#...</td>\n    </tr>\n  </tbody>\n</table>\n</div>"
     },
     "metadata": {},
     "execution_count": 23
    }
   ],
   "source": [
    "df_contracts = pd.DataFrame(list_contracts)\n",
    "df_contracts.columns = ['CategoryDescription','ContractAmount','ShortTitle']\n",
    "df_contracts.head()"
   ]
  },
  {
   "cell_type": "code",
   "execution_count": 24,
   "metadata": {
    "tags": []
   },
   "outputs": [],
   "source": [
    "list_contracts2 = []\n",
    "for l,m in zip(df_contracts['ContractAmount'], df_contracts['ShortTitle']):\n",
    "    if 'WASHINGTON SQUARE PARK' in m:\n",
    "        n = 'WASHINGTON SQUARE PARK'\n",
    "        list_contracts2.append([l,m,n])\n",
    "    elif 'THE CENTRAL PARK' in m:\n",
    "        n = 'THE CENTRAL PARK'\n",
    "        list_contracts2.append([l,m,n])\n"
   ]
  },
  {
   "cell_type": "code",
   "execution_count": 25,
   "metadata": {},
   "outputs": [
    {
     "output_type": "execute_result",
     "data": {
      "text/plain": "[[12864125.6,\n  'INSTALLATION OF LIGHTS AND TRAFFIC SIGNALS IN THE CENTRAL PARK',\n  'THE CENTRAL PARK'],\n [200000.0,\n  'CONSTRUCTION SERVICES FOR THE CONSTRUCTION OF THE CENTRAL PARK ZOO GARAGE',\n  'THE CENTRAL PARK'],\n [8939669.24,\n  'WATER MAIN CONNECTION AT WASHINGTON SQUARE PARK, ETC. - BOROUGH OF MANHATTAN',\n  'WASHINGTON SQUARE PARK']]"
     },
     "metadata": {},
     "execution_count": 25
    }
   ],
   "source": [
    "list_contracts2"
   ]
  },
  {
   "cell_type": "code",
   "execution_count": 26,
   "metadata": {},
   "outputs": [
    {
     "output_type": "execute_result",
     "data": {
      "text/plain": "   ContractAmount                                         ShortTitle  \\\n0     12864125.60  INSTALLATION OF LIGHTS AND TRAFFIC SIGNALS IN ...   \n1       200000.00  CONSTRUCTION SERVICES FOR THE CONSTRUCTION OF ...   \n2      8939669.24  WATER MAIN CONNECTION AT WASHINGTON SQUARE PAR...   \n\n                 Location  \n0        THE CENTRAL PARK  \n1        THE CENTRAL PARK  \n2  WASHINGTON SQUARE PARK  ",
      "text/html": "<div>\n<style scoped>\n    .dataframe tbody tr th:only-of-type {\n        vertical-align: middle;\n    }\n\n    .dataframe tbody tr th {\n        vertical-align: top;\n    }\n\n    .dataframe thead th {\n        text-align: right;\n    }\n</style>\n<table border=\"1\" class=\"dataframe\">\n  <thead>\n    <tr style=\"text-align: right;\">\n      <th></th>\n      <th>ContractAmount</th>\n      <th>ShortTitle</th>\n      <th>Location</th>\n    </tr>\n  </thead>\n  <tbody>\n    <tr>\n      <th>0</th>\n      <td>12864125.60</td>\n      <td>INSTALLATION OF LIGHTS AND TRAFFIC SIGNALS IN ...</td>\n      <td>THE CENTRAL PARK</td>\n    </tr>\n    <tr>\n      <th>1</th>\n      <td>200000.00</td>\n      <td>CONSTRUCTION SERVICES FOR THE CONSTRUCTION OF ...</td>\n      <td>THE CENTRAL PARK</td>\n    </tr>\n    <tr>\n      <th>2</th>\n      <td>8939669.24</td>\n      <td>WATER MAIN CONNECTION AT WASHINGTON SQUARE PAR...</td>\n      <td>WASHINGTON SQUARE PARK</td>\n    </tr>\n  </tbody>\n</table>\n</div>"
     },
     "metadata": {},
     "execution_count": 26
    }
   ],
   "source": [
    "df_contracts2 = pd.DataFrame(list_contracts2)\n",
    "df_contracts2.columns = ['ContractAmount','ShortTitle','Location']\n",
    "df_contracts2.head()"
   ]
  },
  {
   "cell_type": "code",
   "execution_count": 27,
   "metadata": {},
   "outputs": [],
   "source": [
    "df2 = df_contracts2.groupby('Location').sum()"
   ]
  },
  {
   "cell_type": "code",
   "execution_count": 28,
   "metadata": {},
   "outputs": [
    {
     "output_type": "execute_result",
     "data": {
      "text/plain": "                 Location  ContractAmount\n0        THE CENTRAL PARK     13064125.60\n1  WASHINGTON SQUARE PARK      8939669.24",
      "text/html": "<div>\n<style scoped>\n    .dataframe tbody tr th:only-of-type {\n        vertical-align: middle;\n    }\n\n    .dataframe tbody tr th {\n        vertical-align: top;\n    }\n\n    .dataframe thead th {\n        text-align: right;\n    }\n</style>\n<table border=\"1\" class=\"dataframe\">\n  <thead>\n    <tr style=\"text-align: right;\">\n      <th></th>\n      <th>Location</th>\n      <th>ContractAmount</th>\n    </tr>\n  </thead>\n  <tbody>\n    <tr>\n      <th>0</th>\n      <td>THE CENTRAL PARK</td>\n      <td>13064125.60</td>\n    </tr>\n    <tr>\n      <th>1</th>\n      <td>WASHINGTON SQUARE PARK</td>\n      <td>8939669.24</td>\n    </tr>\n  </tbody>\n</table>\n</div>"
     },
     "metadata": {},
     "execution_count": 28
    }
   ],
   "source": [
    "df2.reset_index()"
   ]
  },
  {
   "cell_type": "code",
   "execution_count": 29,
   "metadata": {},
   "outputs": [
    {
     "output_type": "execute_result",
     "data": {
      "text/plain": "1.4613656556268741"
     },
     "metadata": {},
     "execution_count": 29
    }
   ],
   "source": [
    "df2['ContractAmount'][0]/df2['ContractAmount'][1]"
   ]
  },
  {
   "cell_type": "code",
   "execution_count": 30,
   "metadata": {},
   "outputs": [
    {
     "output_type": "execute_result",
     "data": {
      "text/plain": "Index(['RequestID', 'StartYear', 'StartDate', 'EndDate', 'AgencyName',\n       'TypeOfNoticeDescription', 'CategoryDescription', 'ShortTitle',\n       'SelectionMethodDescription', 'SectionName',\n       'SpecialCaseReasonDescription', 'PIN', 'DueDate', 'AddressToRequest',\n       'ContactName', 'ContactPhone', 'Email', 'ContractAmount', 'ContactFax',\n       'AdditionalDescription1', 'AdditionalDesctription2',\n       'AdditionalDescription3', 'OtherInfo1', 'OtherInfo2', 'OtherInfo3',\n       'VendorName', 'VendorAddress', 'Printout1', 'Printout2', 'Printout3',\n       'DocumentLinks', 'EventDate', 'EventBuildingName',\n       'EventStreetAddress1', 'EventStreetAddress2', 'EventCity',\n       'EventStateCode', 'EventZipCode'],\n      dtype='object')"
     },
     "metadata": {},
     "execution_count": 30
    }
   ],
   "source": [
    "data.columns"
   ]
  },
  {
   "cell_type": "code",
   "execution_count": 31,
   "metadata": {},
   "outputs": [
    {
     "output_type": "execute_result",
     "data": {
      "text/plain": "     StartYear                        AgencyName CategoryDescription  \\\n172       2015  Citywide Administrative Services               Goods   \n173       2019  Citywide Administrative Services               Goods   \n175       2016  Citywide Administrative Services               Goods   \n190       2016  Citywide Administrative Services               Goods   \n204       2013  Citywide Administrative Services               Goods   \n\n     ContractAmount  \n172       219456.00  \n173       424851.80  \n175         6138.00  \n190      1327263.96  \n204       331512.00  ",
      "text/html": "<div>\n<style scoped>\n    .dataframe tbody tr th:only-of-type {\n        vertical-align: middle;\n    }\n\n    .dataframe tbody tr th {\n        vertical-align: top;\n    }\n\n    .dataframe thead th {\n        text-align: right;\n    }\n</style>\n<table border=\"1\" class=\"dataframe\">\n  <thead>\n    <tr style=\"text-align: right;\">\n      <th></th>\n      <th>StartYear</th>\n      <th>AgencyName</th>\n      <th>CategoryDescription</th>\n      <th>ContractAmount</th>\n    </tr>\n  </thead>\n  <tbody>\n    <tr>\n      <th>172</th>\n      <td>2015</td>\n      <td>Citywide Administrative Services</td>\n      <td>Goods</td>\n      <td>219456.00</td>\n    </tr>\n    <tr>\n      <th>173</th>\n      <td>2019</td>\n      <td>Citywide Administrative Services</td>\n      <td>Goods</td>\n      <td>424851.80</td>\n    </tr>\n    <tr>\n      <th>175</th>\n      <td>2016</td>\n      <td>Citywide Administrative Services</td>\n      <td>Goods</td>\n      <td>6138.00</td>\n    </tr>\n    <tr>\n      <th>190</th>\n      <td>2016</td>\n      <td>Citywide Administrative Services</td>\n      <td>Goods</td>\n      <td>1327263.96</td>\n    </tr>\n    <tr>\n      <th>204</th>\n      <td>2013</td>\n      <td>Citywide Administrative Services</td>\n      <td>Goods</td>\n      <td>331512.00</td>\n    </tr>\n  </tbody>\n</table>\n</div>"
     },
     "metadata": {},
     "execution_count": 31
    }
   ],
   "source": [
    "data4 = data[data['AgencyName']=='Citywide Administrative Services']\n",
    "data4 = data4[data['CategoryDescription']=='Goods']\n",
    "df_goods = data4[['StartYear','AgencyName','CategoryDescription','ContractAmount']]\n",
    "df_goods.head()"
   ]
  },
  {
   "cell_type": "code",
   "execution_count": 32,
   "metadata": {},
   "outputs": [
    {
     "output_type": "execute_result",
     "data": {
      "text/plain": "   StartYear  ContractAmount\n0       2010    7.040786e+08\n1       2011    1.340834e+09\n2       2012    7.637965e+08\n3       2013    6.288650e+08\n4       2014    9.481678e+08",
      "text/html": "<div>\n<style scoped>\n    .dataframe tbody tr th:only-of-type {\n        vertical-align: middle;\n    }\n\n    .dataframe tbody tr th {\n        vertical-align: top;\n    }\n\n    .dataframe thead th {\n        text-align: right;\n    }\n</style>\n<table border=\"1\" class=\"dataframe\">\n  <thead>\n    <tr style=\"text-align: right;\">\n      <th></th>\n      <th>StartYear</th>\n      <th>ContractAmount</th>\n    </tr>\n  </thead>\n  <tbody>\n    <tr>\n      <th>0</th>\n      <td>2010</td>\n      <td>7.040786e+08</td>\n    </tr>\n    <tr>\n      <th>1</th>\n      <td>2011</td>\n      <td>1.340834e+09</td>\n    </tr>\n    <tr>\n      <th>2</th>\n      <td>2012</td>\n      <td>7.637965e+08</td>\n    </tr>\n    <tr>\n      <th>3</th>\n      <td>2013</td>\n      <td>6.288650e+08</td>\n    </tr>\n    <tr>\n      <th>4</th>\n      <td>2014</td>\n      <td>9.481678e+08</td>\n    </tr>\n  </tbody>\n</table>\n</div>"
     },
     "metadata": {},
     "execution_count": 32
    }
   ],
   "source": [
    "grouped_df_goods = df_goods.groupby('StartYear',as_index=False).sum()\n",
    "grouped_df_goods.head()"
   ]
  },
  {
   "cell_type": "code",
   "execution_count": 165,
   "metadata": {
    "tags": []
   },
   "outputs": [
    {
     "output_type": "stream",
     "name": "stdout",
     "text": "R-Squared =  0.3598764266839547\n"
    }
   ],
   "source": [
    "from sklearn.linear_model import LinearRegression\n",
    "from sklearn.metrics import r2_score\n",
    "from sklearn.preprocessing import StandardScaler\n",
    "from sklearn.pipeline import Pipeline\n",
    "\n",
    "X = grouped_df_goods[['StartYear']]\n",
    "y = grouped_df_goods[['ContractAmount']]\n",
    "Input = [('Scale',StandardScaler()),('model',LinearRegression())]\n",
    "pipe = Pipeline(Input)\n",
    "pipe.fit(X,y)\n",
    "yhat = pipe.predict(X)\n",
    "\n",
    "print('R-Squared = ',r2_score(y,yhat))"
   ]
  },
  {
   "cell_type": "code",
   "execution_count": 166,
   "metadata": {
    "tags": []
   },
   "outputs": [
    {
     "output_type": "display_data",
     "data": {
      "text/plain": "<Figure size 432x288 with 1 Axes>",
      "image/svg+xml": "<?xml version=\"1.0\" encoding=\"utf-8\" standalone=\"no\"?>\r\n<!DOCTYPE svg PUBLIC \"-//W3C//DTD SVG 1.1//EN\"\r\n  \"http://www.w3.org/Graphics/SVG/1.1/DTD/svg11.dtd\">\r\n<!-- Created with matplotlib (https://matplotlib.org/) -->\r\n<svg height=\"259.116562pt\" version=\"1.1\" viewBox=\"0 0 372.103125 259.116562\" width=\"372.103125pt\" xmlns=\"http://www.w3.org/2000/svg\" xmlns:xlink=\"http://www.w3.org/1999/xlink\">\r\n <defs>\r\n  <style type=\"text/css\">\r\n*{stroke-linecap:butt;stroke-linejoin:round;}\r\n  </style>\r\n </defs>\r\n <g id=\"figure_1\">\r\n  <g id=\"patch_1\">\r\n   <path d=\"M 0 259.116562 \r\nL 372.103125 259.116562 \r\nL 372.103125 0 \r\nL 0 0 \r\nz\r\n\" style=\"fill:none;\"/>\r\n  </g>\r\n  <g id=\"axes_1\">\r\n   <g id=\"patch_2\">\r\n    <path d=\"M 30.103125 235.238437 \r\nL 364.903125 235.238437 \r\nL 364.903125 17.798437 \r\nL 30.103125 17.798437 \r\nz\r\n\" style=\"fill:#ffffff;\"/>\r\n   </g>\r\n   <g id=\"PathCollection_1\">\r\n    <defs>\r\n     <path d=\"M 0 3 \r\nC 0.795609 3 1.55874 2.683901 2.12132 2.12132 \r\nC 2.683901 1.55874 3 0.795609 3 0 \r\nC 3 -0.795609 2.683901 -1.55874 2.12132 -2.12132 \r\nC 1.55874 -2.683901 0.795609 -3 0 -3 \r\nC -0.795609 -3 -1.55874 -2.683901 -2.12132 -2.12132 \r\nC -2.683901 -1.55874 -3 -0.795609 -3 0 \r\nC -3 0.795609 -2.683901 1.55874 -2.12132 2.12132 \r\nC -1.55874 2.683901 -0.795609 3 0 3 \r\nz\r\n\" id=\"m4720f75c5a\" style=\"stroke:#1f77b4;\"/>\r\n    </defs>\r\n    <g clip-path=\"url(#pcea1030f52)\">\r\n     <use style=\"fill:#1f77b4;stroke:#1f77b4;\" x=\"45.623735\" xlink:href=\"#m4720f75c5a\" y=\"210.536343\"/>\r\n     <use style=\"fill:#1f77b4;stroke:#1f77b4;\" x=\"79.37471\" xlink:href=\"#m4720f75c5a\" y=\"85.083904\"/>\r\n     <use style=\"fill:#1f77b4;stroke:#1f77b4;\" x=\"113.125686\" xlink:href=\"#m4720f75c5a\" y=\"198.770835\"/>\r\n     <use style=\"fill:#1f77b4;stroke:#1f77b4;\" x=\"146.876662\" xlink:href=\"#m4720f75c5a\" y=\"225.354801\"/>\r\n     <use style=\"fill:#1f77b4;stroke:#1f77b4;\" x=\"180.627637\" xlink:href=\"#m4720f75c5a\" y=\"162.446336\"/>\r\n     <use style=\"fill:#1f77b4;stroke:#1f77b4;\" x=\"214.378613\" xlink:href=\"#m4720f75c5a\" y=\"89.869789\"/>\r\n     <use style=\"fill:#1f77b4;stroke:#1f77b4;\" x=\"248.129588\" xlink:href=\"#m4720f75c5a\" y=\"163.241149\"/>\r\n     <use style=\"fill:#1f77b4;stroke:#1f77b4;\" x=\"281.880564\" xlink:href=\"#m4720f75c5a\" y=\"162.1482\"/>\r\n     <use style=\"fill:#1f77b4;stroke:#1f77b4;\" x=\"315.63154\" xlink:href=\"#m4720f75c5a\" y=\"71.793817\"/>\r\n     <use style=\"fill:#1f77b4;stroke:#1f77b4;\" x=\"349.382515\" xlink:href=\"#m4720f75c5a\" y=\"27.682074\"/>\r\n    </g>\r\n   </g>\r\n   <g id=\"matplotlib.axis_1\">\r\n    <g id=\"xtick_1\">\r\n     <g id=\"line2d_1\">\r\n      <defs>\r\n       <path d=\"M 0 0 \r\nL 0 3.5 \r\n\" id=\"m00ea2dac0f\" style=\"stroke:#000000;stroke-width:0.8;\"/>\r\n      </defs>\r\n      <g>\r\n       <use style=\"stroke:#000000;stroke-width:0.8;\" x=\"45.623735\" xlink:href=\"#m00ea2dac0f\" y=\"235.238437\"/>\r\n      </g>\r\n     </g>\r\n     <g id=\"text_1\">\r\n      <!-- 2010 -->\r\n      <defs>\r\n       <path d=\"M 19.1875 8.296875 \r\nL 53.609375 8.296875 \r\nL 53.609375 0 \r\nL 7.328125 0 \r\nL 7.328125 8.296875 \r\nQ 12.9375 14.109375 22.625 23.890625 \r\nQ 32.328125 33.6875 34.8125 36.53125 \r\nQ 39.546875 41.84375 41.421875 45.53125 \r\nQ 43.3125 49.21875 43.3125 52.78125 \r\nQ 43.3125 58.59375 39.234375 62.25 \r\nQ 35.15625 65.921875 28.609375 65.921875 \r\nQ 23.96875 65.921875 18.8125 64.3125 \r\nQ 13.671875 62.703125 7.8125 59.421875 \r\nL 7.8125 69.390625 \r\nQ 13.765625 71.78125 18.9375 73 \r\nQ 24.125 74.21875 28.421875 74.21875 \r\nQ 39.75 74.21875 46.484375 68.546875 \r\nQ 53.21875 62.890625 53.21875 53.421875 \r\nQ 53.21875 48.921875 51.53125 44.890625 \r\nQ 49.859375 40.875 45.40625 35.40625 \r\nQ 44.1875 33.984375 37.640625 27.21875 \r\nQ 31.109375 20.453125 19.1875 8.296875 \r\nz\r\n\" id=\"DejaVuSans-50\"/>\r\n       <path d=\"M 31.78125 66.40625 \r\nQ 24.171875 66.40625 20.328125 58.90625 \r\nQ 16.5 51.421875 16.5 36.375 \r\nQ 16.5 21.390625 20.328125 13.890625 \r\nQ 24.171875 6.390625 31.78125 6.390625 \r\nQ 39.453125 6.390625 43.28125 13.890625 \r\nQ 47.125 21.390625 47.125 36.375 \r\nQ 47.125 51.421875 43.28125 58.90625 \r\nQ 39.453125 66.40625 31.78125 66.40625 \r\nz\r\nM 31.78125 74.21875 \r\nQ 44.046875 74.21875 50.515625 64.515625 \r\nQ 56.984375 54.828125 56.984375 36.375 \r\nQ 56.984375 17.96875 50.515625 8.265625 \r\nQ 44.046875 -1.421875 31.78125 -1.421875 \r\nQ 19.53125 -1.421875 13.0625 8.265625 \r\nQ 6.59375 17.96875 6.59375 36.375 \r\nQ 6.59375 54.828125 13.0625 64.515625 \r\nQ 19.53125 74.21875 31.78125 74.21875 \r\nz\r\n\" id=\"DejaVuSans-48\"/>\r\n       <path d=\"M 12.40625 8.296875 \r\nL 28.515625 8.296875 \r\nL 28.515625 63.921875 \r\nL 10.984375 60.40625 \r\nL 10.984375 69.390625 \r\nL 28.421875 72.90625 \r\nL 38.28125 72.90625 \r\nL 38.28125 8.296875 \r\nL 54.390625 8.296875 \r\nL 54.390625 0 \r\nL 12.40625 0 \r\nz\r\n\" id=\"DejaVuSans-49\"/>\r\n      </defs>\r\n      <g transform=\"translate(32.898735 249.836875)scale(0.1 -0.1)\">\r\n       <use xlink:href=\"#DejaVuSans-50\"/>\r\n       <use x=\"63.623047\" xlink:href=\"#DejaVuSans-48\"/>\r\n       <use x=\"127.246094\" xlink:href=\"#DejaVuSans-49\"/>\r\n       <use x=\"190.869141\" xlink:href=\"#DejaVuSans-48\"/>\r\n      </g>\r\n     </g>\r\n    </g>\r\n    <g id=\"xtick_2\">\r\n     <g id=\"line2d_2\">\r\n      <g>\r\n       <use style=\"stroke:#000000;stroke-width:0.8;\" x=\"113.125686\" xlink:href=\"#m00ea2dac0f\" y=\"235.238437\"/>\r\n      </g>\r\n     </g>\r\n     <g id=\"text_2\">\r\n      <!-- 2012 -->\r\n      <g transform=\"translate(100.400686 249.836875)scale(0.1 -0.1)\">\r\n       <use xlink:href=\"#DejaVuSans-50\"/>\r\n       <use x=\"63.623047\" xlink:href=\"#DejaVuSans-48\"/>\r\n       <use x=\"127.246094\" xlink:href=\"#DejaVuSans-49\"/>\r\n       <use x=\"190.869141\" xlink:href=\"#DejaVuSans-50\"/>\r\n      </g>\r\n     </g>\r\n    </g>\r\n    <g id=\"xtick_3\">\r\n     <g id=\"line2d_3\">\r\n      <g>\r\n       <use style=\"stroke:#000000;stroke-width:0.8;\" x=\"180.627637\" xlink:href=\"#m00ea2dac0f\" y=\"235.238437\"/>\r\n      </g>\r\n     </g>\r\n     <g id=\"text_3\">\r\n      <!-- 2014 -->\r\n      <defs>\r\n       <path d=\"M 37.796875 64.3125 \r\nL 12.890625 25.390625 \r\nL 37.796875 25.390625 \r\nz\r\nM 35.203125 72.90625 \r\nL 47.609375 72.90625 \r\nL 47.609375 25.390625 \r\nL 58.015625 25.390625 \r\nL 58.015625 17.1875 \r\nL 47.609375 17.1875 \r\nL 47.609375 0 \r\nL 37.796875 0 \r\nL 37.796875 17.1875 \r\nL 4.890625 17.1875 \r\nL 4.890625 26.703125 \r\nz\r\n\" id=\"DejaVuSans-52\"/>\r\n      </defs>\r\n      <g transform=\"translate(167.902637 249.836875)scale(0.1 -0.1)\">\r\n       <use xlink:href=\"#DejaVuSans-50\"/>\r\n       <use x=\"63.623047\" xlink:href=\"#DejaVuSans-48\"/>\r\n       <use x=\"127.246094\" xlink:href=\"#DejaVuSans-49\"/>\r\n       <use x=\"190.869141\" xlink:href=\"#DejaVuSans-52\"/>\r\n      </g>\r\n     </g>\r\n    </g>\r\n    <g id=\"xtick_4\">\r\n     <g id=\"line2d_4\">\r\n      <g>\r\n       <use style=\"stroke:#000000;stroke-width:0.8;\" x=\"248.129588\" xlink:href=\"#m00ea2dac0f\" y=\"235.238437\"/>\r\n      </g>\r\n     </g>\r\n     <g id=\"text_4\">\r\n      <!-- 2016 -->\r\n      <defs>\r\n       <path d=\"M 33.015625 40.375 \r\nQ 26.375 40.375 22.484375 35.828125 \r\nQ 18.609375 31.296875 18.609375 23.390625 \r\nQ 18.609375 15.53125 22.484375 10.953125 \r\nQ 26.375 6.390625 33.015625 6.390625 \r\nQ 39.65625 6.390625 43.53125 10.953125 \r\nQ 47.40625 15.53125 47.40625 23.390625 \r\nQ 47.40625 31.296875 43.53125 35.828125 \r\nQ 39.65625 40.375 33.015625 40.375 \r\nz\r\nM 52.59375 71.296875 \r\nL 52.59375 62.3125 \r\nQ 48.875 64.0625 45.09375 64.984375 \r\nQ 41.3125 65.921875 37.59375 65.921875 \r\nQ 27.828125 65.921875 22.671875 59.328125 \r\nQ 17.53125 52.734375 16.796875 39.40625 \r\nQ 19.671875 43.65625 24.015625 45.921875 \r\nQ 28.375 48.1875 33.59375 48.1875 \r\nQ 44.578125 48.1875 50.953125 41.515625 \r\nQ 57.328125 34.859375 57.328125 23.390625 \r\nQ 57.328125 12.15625 50.6875 5.359375 \r\nQ 44.046875 -1.421875 33.015625 -1.421875 \r\nQ 20.359375 -1.421875 13.671875 8.265625 \r\nQ 6.984375 17.96875 6.984375 36.375 \r\nQ 6.984375 53.65625 15.1875 63.9375 \r\nQ 23.390625 74.21875 37.203125 74.21875 \r\nQ 40.921875 74.21875 44.703125 73.484375 \r\nQ 48.484375 72.75 52.59375 71.296875 \r\nz\r\n\" id=\"DejaVuSans-54\"/>\r\n      </defs>\r\n      <g transform=\"translate(235.404588 249.836875)scale(0.1 -0.1)\">\r\n       <use xlink:href=\"#DejaVuSans-50\"/>\r\n       <use x=\"63.623047\" xlink:href=\"#DejaVuSans-48\"/>\r\n       <use x=\"127.246094\" xlink:href=\"#DejaVuSans-49\"/>\r\n       <use x=\"190.869141\" xlink:href=\"#DejaVuSans-54\"/>\r\n      </g>\r\n     </g>\r\n    </g>\r\n    <g id=\"xtick_5\">\r\n     <g id=\"line2d_5\">\r\n      <g>\r\n       <use style=\"stroke:#000000;stroke-width:0.8;\" x=\"315.63154\" xlink:href=\"#m00ea2dac0f\" y=\"235.238437\"/>\r\n      </g>\r\n     </g>\r\n     <g id=\"text_5\">\r\n      <!-- 2018 -->\r\n      <defs>\r\n       <path d=\"M 31.78125 34.625 \r\nQ 24.75 34.625 20.71875 30.859375 \r\nQ 16.703125 27.09375 16.703125 20.515625 \r\nQ 16.703125 13.921875 20.71875 10.15625 \r\nQ 24.75 6.390625 31.78125 6.390625 \r\nQ 38.8125 6.390625 42.859375 10.171875 \r\nQ 46.921875 13.96875 46.921875 20.515625 \r\nQ 46.921875 27.09375 42.890625 30.859375 \r\nQ 38.875 34.625 31.78125 34.625 \r\nz\r\nM 21.921875 38.8125 \r\nQ 15.578125 40.375 12.03125 44.71875 \r\nQ 8.5 49.078125 8.5 55.328125 \r\nQ 8.5 64.0625 14.71875 69.140625 \r\nQ 20.953125 74.21875 31.78125 74.21875 \r\nQ 42.671875 74.21875 48.875 69.140625 \r\nQ 55.078125 64.0625 55.078125 55.328125 \r\nQ 55.078125 49.078125 51.53125 44.71875 \r\nQ 48 40.375 41.703125 38.8125 \r\nQ 48.828125 37.15625 52.796875 32.3125 \r\nQ 56.78125 27.484375 56.78125 20.515625 \r\nQ 56.78125 9.90625 50.3125 4.234375 \r\nQ 43.84375 -1.421875 31.78125 -1.421875 \r\nQ 19.734375 -1.421875 13.25 4.234375 \r\nQ 6.78125 9.90625 6.78125 20.515625 \r\nQ 6.78125 27.484375 10.78125 32.3125 \r\nQ 14.796875 37.15625 21.921875 38.8125 \r\nz\r\nM 18.3125 54.390625 \r\nQ 18.3125 48.734375 21.84375 45.5625 \r\nQ 25.390625 42.390625 31.78125 42.390625 \r\nQ 38.140625 42.390625 41.71875 45.5625 \r\nQ 45.3125 48.734375 45.3125 54.390625 \r\nQ 45.3125 60.0625 41.71875 63.234375 \r\nQ 38.140625 66.40625 31.78125 66.40625 \r\nQ 25.390625 66.40625 21.84375 63.234375 \r\nQ 18.3125 60.0625 18.3125 54.390625 \r\nz\r\n\" id=\"DejaVuSans-56\"/>\r\n      </defs>\r\n      <g transform=\"translate(302.90654 249.836875)scale(0.1 -0.1)\">\r\n       <use xlink:href=\"#DejaVuSans-50\"/>\r\n       <use x=\"63.623047\" xlink:href=\"#DejaVuSans-48\"/>\r\n       <use x=\"127.246094\" xlink:href=\"#DejaVuSans-49\"/>\r\n       <use x=\"190.869141\" xlink:href=\"#DejaVuSans-56\"/>\r\n      </g>\r\n     </g>\r\n    </g>\r\n   </g>\r\n   <g id=\"matplotlib.axis_2\">\r\n    <g id=\"ytick_1\">\r\n     <g id=\"line2d_6\">\r\n      <defs>\r\n       <path d=\"M 0 0 \r\nL -3.5 0 \r\n\" id=\"m7a16f01045\" style=\"stroke:#000000;stroke-width:0.8;\"/>\r\n      </defs>\r\n      <g>\r\n       <use style=\"stroke:#000000;stroke-width:0.8;\" x=\"30.103125\" xlink:href=\"#m7a16f01045\" y=\"231.041737\"/>\r\n      </g>\r\n     </g>\r\n     <g id=\"text_6\">\r\n      <!-- 0.6 -->\r\n      <defs>\r\n       <path d=\"M 10.6875 12.40625 \r\nL 21 12.40625 \r\nL 21 0 \r\nL 10.6875 0 \r\nz\r\n\" id=\"DejaVuSans-46\"/>\r\n      </defs>\r\n      <g transform=\"translate(7.2 234.840955)scale(0.1 -0.1)\">\r\n       <use xlink:href=\"#DejaVuSans-48\"/>\r\n       <use x=\"63.623047\" xlink:href=\"#DejaVuSans-46\"/>\r\n       <use x=\"95.410156\" xlink:href=\"#DejaVuSans-54\"/>\r\n      </g>\r\n     </g>\r\n    </g>\r\n    <g id=\"ytick_2\">\r\n     <g id=\"line2d_7\">\r\n      <g>\r\n       <use style=\"stroke:#000000;stroke-width:0.8;\" x=\"30.103125\" xlink:href=\"#m7a16f01045\" y=\"191.638087\"/>\r\n      </g>\r\n     </g>\r\n     <g id=\"text_7\">\r\n      <!-- 0.8 -->\r\n      <g transform=\"translate(7.2 195.437305)scale(0.1 -0.1)\">\r\n       <use xlink:href=\"#DejaVuSans-48\"/>\r\n       <use x=\"63.623047\" xlink:href=\"#DejaVuSans-46\"/>\r\n       <use x=\"95.410156\" xlink:href=\"#DejaVuSans-56\"/>\r\n      </g>\r\n     </g>\r\n    </g>\r\n    <g id=\"ytick_3\">\r\n     <g id=\"line2d_8\">\r\n      <g>\r\n       <use style=\"stroke:#000000;stroke-width:0.8;\" x=\"30.103125\" xlink:href=\"#m7a16f01045\" y=\"152.234436\"/>\r\n      </g>\r\n     </g>\r\n     <g id=\"text_8\">\r\n      <!-- 1.0 -->\r\n      <g transform=\"translate(7.2 156.033655)scale(0.1 -0.1)\">\r\n       <use xlink:href=\"#DejaVuSans-49\"/>\r\n       <use x=\"63.623047\" xlink:href=\"#DejaVuSans-46\"/>\r\n       <use x=\"95.410156\" xlink:href=\"#DejaVuSans-48\"/>\r\n      </g>\r\n     </g>\r\n    </g>\r\n    <g id=\"ytick_4\">\r\n     <g id=\"line2d_9\">\r\n      <g>\r\n       <use style=\"stroke:#000000;stroke-width:0.8;\" x=\"30.103125\" xlink:href=\"#m7a16f01045\" y=\"112.830786\"/>\r\n      </g>\r\n     </g>\r\n     <g id=\"text_9\">\r\n      <!-- 1.2 -->\r\n      <g transform=\"translate(7.2 116.630005)scale(0.1 -0.1)\">\r\n       <use xlink:href=\"#DejaVuSans-49\"/>\r\n       <use x=\"63.623047\" xlink:href=\"#DejaVuSans-46\"/>\r\n       <use x=\"95.410156\" xlink:href=\"#DejaVuSans-50\"/>\r\n      </g>\r\n     </g>\r\n    </g>\r\n    <g id=\"ytick_5\">\r\n     <g id=\"line2d_10\">\r\n      <g>\r\n       <use style=\"stroke:#000000;stroke-width:0.8;\" x=\"30.103125\" xlink:href=\"#m7a16f01045\" y=\"73.427136\"/>\r\n      </g>\r\n     </g>\r\n     <g id=\"text_10\">\r\n      <!-- 1.4 -->\r\n      <g transform=\"translate(7.2 77.226355)scale(0.1 -0.1)\">\r\n       <use xlink:href=\"#DejaVuSans-49\"/>\r\n       <use x=\"63.623047\" xlink:href=\"#DejaVuSans-46\"/>\r\n       <use x=\"95.410156\" xlink:href=\"#DejaVuSans-52\"/>\r\n      </g>\r\n     </g>\r\n    </g>\r\n    <g id=\"ytick_6\">\r\n     <g id=\"line2d_11\">\r\n      <g>\r\n       <use style=\"stroke:#000000;stroke-width:0.8;\" x=\"30.103125\" xlink:href=\"#m7a16f01045\" y=\"34.023486\"/>\r\n      </g>\r\n     </g>\r\n     <g id=\"text_11\">\r\n      <!-- 1.6 -->\r\n      <g transform=\"translate(7.2 37.822705)scale(0.1 -0.1)\">\r\n       <use xlink:href=\"#DejaVuSans-49\"/>\r\n       <use x=\"63.623047\" xlink:href=\"#DejaVuSans-46\"/>\r\n       <use x=\"95.410156\" xlink:href=\"#DejaVuSans-54\"/>\r\n      </g>\r\n     </g>\r\n    </g>\r\n    <g id=\"text_12\">\r\n     <!-- 1e9 -->\r\n     <defs>\r\n      <path d=\"M 56.203125 29.59375 \r\nL 56.203125 25.203125 \r\nL 14.890625 25.203125 \r\nQ 15.484375 15.921875 20.484375 11.0625 \r\nQ 25.484375 6.203125 34.421875 6.203125 \r\nQ 39.59375 6.203125 44.453125 7.46875 \r\nQ 49.3125 8.734375 54.109375 11.28125 \r\nL 54.109375 2.78125 \r\nQ 49.265625 0.734375 44.1875 -0.34375 \r\nQ 39.109375 -1.421875 33.890625 -1.421875 \r\nQ 20.796875 -1.421875 13.15625 6.1875 \r\nQ 5.515625 13.8125 5.515625 26.8125 \r\nQ 5.515625 40.234375 12.765625 48.109375 \r\nQ 20.015625 56 32.328125 56 \r\nQ 43.359375 56 49.78125 48.890625 \r\nQ 56.203125 41.796875 56.203125 29.59375 \r\nz\r\nM 47.21875 32.234375 \r\nQ 47.125 39.59375 43.09375 43.984375 \r\nQ 39.0625 48.390625 32.421875 48.390625 \r\nQ 24.90625 48.390625 20.390625 44.140625 \r\nQ 15.875 39.890625 15.1875 32.171875 \r\nz\r\n\" id=\"DejaVuSans-101\"/>\r\n      <path d=\"M 10.984375 1.515625 \r\nL 10.984375 10.5 \r\nQ 14.703125 8.734375 18.5 7.8125 \r\nQ 22.3125 6.890625 25.984375 6.890625 \r\nQ 35.75 6.890625 40.890625 13.453125 \r\nQ 46.046875 20.015625 46.78125 33.40625 \r\nQ 43.953125 29.203125 39.59375 26.953125 \r\nQ 35.25 24.703125 29.984375 24.703125 \r\nQ 19.046875 24.703125 12.671875 31.3125 \r\nQ 6.296875 37.9375 6.296875 49.421875 \r\nQ 6.296875 60.640625 12.9375 67.421875 \r\nQ 19.578125 74.21875 30.609375 74.21875 \r\nQ 43.265625 74.21875 49.921875 64.515625 \r\nQ 56.59375 54.828125 56.59375 36.375 \r\nQ 56.59375 19.140625 48.40625 8.859375 \r\nQ 40.234375 -1.421875 26.421875 -1.421875 \r\nQ 22.703125 -1.421875 18.890625 -0.6875 \r\nQ 15.09375 0.046875 10.984375 1.515625 \r\nz\r\nM 30.609375 32.421875 \r\nQ 37.25 32.421875 41.125 36.953125 \r\nQ 45.015625 41.5 45.015625 49.421875 \r\nQ 45.015625 57.28125 41.125 61.84375 \r\nQ 37.25 66.40625 30.609375 66.40625 \r\nQ 23.96875 66.40625 20.09375 61.84375 \r\nQ 16.21875 57.28125 16.21875 49.421875 \r\nQ 16.21875 41.5 20.09375 36.953125 \r\nQ 23.96875 32.421875 30.609375 32.421875 \r\nz\r\n\" id=\"DejaVuSans-57\"/>\r\n     </defs>\r\n     <g transform=\"translate(30.103125 14.798437)scale(0.1 -0.1)\">\r\n      <use xlink:href=\"#DejaVuSans-49\"/>\r\n      <use x=\"63.623047\" xlink:href=\"#DejaVuSans-101\"/>\r\n      <use x=\"125.146484\" xlink:href=\"#DejaVuSans-57\"/>\r\n     </g>\r\n    </g>\r\n   </g>\r\n   <g id=\"patch_3\">\r\n    <path d=\"M 30.103125 235.238437 \r\nL 30.103125 17.798437 \r\n\" style=\"fill:none;stroke:#000000;stroke-linecap:square;stroke-linejoin:miter;stroke-width:0.8;\"/>\r\n   </g>\r\n   <g id=\"patch_4\">\r\n    <path d=\"M 364.903125 235.238437 \r\nL 364.903125 17.798437 \r\n\" style=\"fill:none;stroke:#000000;stroke-linecap:square;stroke-linejoin:miter;stroke-width:0.8;\"/>\r\n   </g>\r\n   <g id=\"patch_5\">\r\n    <path d=\"M 30.103125 235.238437 \r\nL 364.903125 235.238437 \r\n\" style=\"fill:none;stroke:#000000;stroke-linecap:square;stroke-linejoin:miter;stroke-width:0.8;\"/>\r\n   </g>\r\n   <g id=\"patch_6\">\r\n    <path d=\"M 30.103125 17.798437 \r\nL 364.903125 17.798437 \r\n\" style=\"fill:none;stroke:#000000;stroke-linecap:square;stroke-linejoin:miter;stroke-width:0.8;\"/>\r\n   </g>\r\n  </g>\r\n </g>\r\n <defs>\r\n  <clipPath id=\"pcea1030f52\">\r\n   <rect height=\"217.44\" width=\"334.8\" x=\"30.103125\" y=\"17.798437\"/>\r\n  </clipPath>\r\n </defs>\r\n</svg>\r\n",
      "image/png": "[encoded data removed]"
     },
     "metadata": {
      "needs_background": "light"
     }
    }
   ],
   "source": [
    "import matplotlib.pyplot as plt\n",
    "\n",
    "plt.figure()\n",
    "ax0 = plt.scatter(X,y)\n",
    "plt.show()"
   ]
  },
  {
   "cell_type": "code",
   "execution_count": 167,
   "metadata": {},
   "outputs": [
    {
     "output_type": "display_data",
     "data": {
      "text/plain": "<Figure size 432x288 with 1 Axes>",
      "image/svg+xml": "<?xml version=\"1.0\" encoding=\"utf-8\" standalone=\"no\"?>\r\n<!DOCTYPE svg PUBLIC \"-//W3C//DTD SVG 1.1//EN\"\r\n  \"http://www.w3.org/Graphics/SVG/1.1/DTD/svg11.dtd\">\r\n<!-- Created with matplotlib (https://matplotlib.org/) -->\r\n<svg height=\"259.116562pt\" version=\"1.1\" viewBox=\"0 0 372.103125 259.116562\" width=\"372.103125pt\" xmlns=\"http://www.w3.org/2000/svg\" xmlns:xlink=\"http://www.w3.org/1999/xlink\">\r\n <defs>\r\n  <style type=\"text/css\">\r\n*{stroke-linecap:butt;stroke-linejoin:round;}\r\n  </style>\r\n </defs>\r\n <g id=\"figure_1\">\r\n  <g id=\"patch_1\">\r\n   <path d=\"M 0 259.116562 \r\nL 372.103125 259.116562 \r\nL 372.103125 0 \r\nL 0 0 \r\nz\r\n\" style=\"fill:none;\"/>\r\n  </g>\r\n  <g id=\"axes_1\">\r\n   <g id=\"patch_2\">\r\n    <path d=\"M 30.103125 235.238437 \r\nL 364.903125 235.238437 \r\nL 364.903125 17.798437 \r\nL 30.103125 17.798437 \r\nz\r\n\" style=\"fill:#ffffff;\"/>\r\n   </g>\r\n   <g id=\"PathCollection_1\">\r\n    <defs>\r\n     <path d=\"M 0 3 \r\nC 0.795609 3 1.55874 2.683901 2.12132 2.12132 \r\nC 2.683901 1.55874 3 0.795609 3 0 \r\nC 3 -0.795609 2.683901 -1.55874 2.12132 -2.12132 \r\nC 1.55874 -2.683901 0.795609 -3 0 -3 \r\nC -0.795609 -3 -1.55874 -2.683901 -2.12132 -2.12132 \r\nC -2.683901 -1.55874 -3 -0.795609 -3 0 \r\nC -3 0.795609 -2.683901 1.55874 -2.12132 2.12132 \r\nC -1.55874 2.683901 -0.795609 3 0 3 \r\nz\r\n\" id=\"me9085bb6da\" style=\"stroke:#ff0000;\"/>\r\n    </defs>\r\n    <g clip-path=\"url(#pc90853ba4e)\">\r\n     <use style=\"fill:#ff0000;stroke:#ff0000;\" x=\"45.623735\" xlink:href=\"#me9085bb6da\" y=\"225.354801\"/>\r\n     <use style=\"fill:#ff0000;stroke:#ff0000;\" x=\"79.37471\" xlink:href=\"#me9085bb6da\" y=\"203.391165\"/>\r\n     <use style=\"fill:#ff0000;stroke:#ff0000;\" x=\"113.125686\" xlink:href=\"#me9085bb6da\" y=\"181.427528\"/>\r\n     <use style=\"fill:#ff0000;stroke:#ff0000;\" x=\"146.876662\" xlink:href=\"#me9085bb6da\" y=\"159.463892\"/>\r\n     <use style=\"fill:#ff0000;stroke:#ff0000;\" x=\"180.627637\" xlink:href=\"#me9085bb6da\" y=\"137.500256\"/>\r\n     <use style=\"fill:#ff0000;stroke:#ff0000;\" x=\"214.378613\" xlink:href=\"#me9085bb6da\" y=\"115.536619\"/>\r\n     <use style=\"fill:#ff0000;stroke:#ff0000;\" x=\"248.129588\" xlink:href=\"#me9085bb6da\" y=\"93.572983\"/>\r\n     <use style=\"fill:#ff0000;stroke:#ff0000;\" x=\"281.880564\" xlink:href=\"#me9085bb6da\" y=\"71.609347\"/>\r\n     <use style=\"fill:#ff0000;stroke:#ff0000;\" x=\"315.63154\" xlink:href=\"#me9085bb6da\" y=\"49.64571\"/>\r\n     <use style=\"fill:#ff0000;stroke:#ff0000;\" x=\"349.382515\" xlink:href=\"#me9085bb6da\" y=\"27.682074\"/>\r\n    </g>\r\n   </g>\r\n   <g id=\"matplotlib.axis_1\">\r\n    <g id=\"xtick_1\">\r\n     <g id=\"line2d_1\">\r\n      <defs>\r\n       <path d=\"M 0 0 \r\nL 0 3.5 \r\n\" id=\"m92d6d711d3\" style=\"stroke:#000000;stroke-width:0.8;\"/>\r\n      </defs>\r\n      <g>\r\n       <use style=\"stroke:#000000;stroke-width:0.8;\" x=\"45.623735\" xlink:href=\"#m92d6d711d3\" y=\"235.238437\"/>\r\n      </g>\r\n     </g>\r\n     <g id=\"text_1\">\r\n      <!-- 2010 -->\r\n      <defs>\r\n       <path d=\"M 19.1875 8.296875 \r\nL 53.609375 8.296875 \r\nL 53.609375 0 \r\nL 7.328125 0 \r\nL 7.328125 8.296875 \r\nQ 12.9375 14.109375 22.625 23.890625 \r\nQ 32.328125 33.6875 34.8125 36.53125 \r\nQ 39.546875 41.84375 41.421875 45.53125 \r\nQ 43.3125 49.21875 43.3125 52.78125 \r\nQ 43.3125 58.59375 39.234375 62.25 \r\nQ 35.15625 65.921875 28.609375 65.921875 \r\nQ 23.96875 65.921875 18.8125 64.3125 \r\nQ 13.671875 62.703125 7.8125 59.421875 \r\nL 7.8125 69.390625 \r\nQ 13.765625 71.78125 18.9375 73 \r\nQ 24.125 74.21875 28.421875 74.21875 \r\nQ 39.75 74.21875 46.484375 68.546875 \r\nQ 53.21875 62.890625 53.21875 53.421875 \r\nQ 53.21875 48.921875 51.53125 44.890625 \r\nQ 49.859375 40.875 45.40625 35.40625 \r\nQ 44.1875 33.984375 37.640625 27.21875 \r\nQ 31.109375 20.453125 19.1875 8.296875 \r\nz\r\n\" id=\"DejaVuSans-50\"/>\r\n       <path d=\"M 31.78125 66.40625 \r\nQ 24.171875 66.40625 20.328125 58.90625 \r\nQ 16.5 51.421875 16.5 36.375 \r\nQ 16.5 21.390625 20.328125 13.890625 \r\nQ 24.171875 6.390625 31.78125 6.390625 \r\nQ 39.453125 6.390625 43.28125 13.890625 \r\nQ 47.125 21.390625 47.125 36.375 \r\nQ 47.125 51.421875 43.28125 58.90625 \r\nQ 39.453125 66.40625 31.78125 66.40625 \r\nz\r\nM 31.78125 74.21875 \r\nQ 44.046875 74.21875 50.515625 64.515625 \r\nQ 56.984375 54.828125 56.984375 36.375 \r\nQ 56.984375 17.96875 50.515625 8.265625 \r\nQ 44.046875 -1.421875 31.78125 -1.421875 \r\nQ 19.53125 -1.421875 13.0625 8.265625 \r\nQ 6.59375 17.96875 6.59375 36.375 \r\nQ 6.59375 54.828125 13.0625 64.515625 \r\nQ 19.53125 74.21875 31.78125 74.21875 \r\nz\r\n\" id=\"DejaVuSans-48\"/>\r\n       <path d=\"M 12.40625 8.296875 \r\nL 28.515625 8.296875 \r\nL 28.515625 63.921875 \r\nL 10.984375 60.40625 \r\nL 10.984375 69.390625 \r\nL 28.421875 72.90625 \r\nL 38.28125 72.90625 \r\nL 38.28125 8.296875 \r\nL 54.390625 8.296875 \r\nL 54.390625 0 \r\nL 12.40625 0 \r\nz\r\n\" id=\"DejaVuSans-49\"/>\r\n      </defs>\r\n      <g transform=\"translate(32.898735 249.836875)scale(0.1 -0.1)\">\r\n       <use xlink:href=\"#DejaVuSans-50\"/>\r\n       <use x=\"63.623047\" xlink:href=\"#DejaVuSans-48\"/>\r\n       <use x=\"127.246094\" xlink:href=\"#DejaVuSans-49\"/>\r\n       <use x=\"190.869141\" xlink:href=\"#DejaVuSans-48\"/>\r\n      </g>\r\n     </g>\r\n    </g>\r\n    <g id=\"xtick_2\">\r\n     <g id=\"line2d_2\">\r\n      <g>\r\n       <use style=\"stroke:#000000;stroke-width:0.8;\" x=\"113.125686\" xlink:href=\"#m92d6d711d3\" y=\"235.238437\"/>\r\n      </g>\r\n     </g>\r\n     <g id=\"text_2\">\r\n      <!-- 2012 -->\r\n      <g transform=\"translate(100.400686 249.836875)scale(0.1 -0.1)\">\r\n       <use xlink:href=\"#DejaVuSans-50\"/>\r\n       <use x=\"63.623047\" xlink:href=\"#DejaVuSans-48\"/>\r\n       <use x=\"127.246094\" xlink:href=\"#DejaVuSans-49\"/>\r\n       <use x=\"190.869141\" xlink:href=\"#DejaVuSans-50\"/>\r\n      </g>\r\n     </g>\r\n    </g>\r\n    <g id=\"xtick_3\">\r\n     <g id=\"line2d_3\">\r\n      <g>\r\n       <use style=\"stroke:#000000;stroke-width:0.8;\" x=\"180.627637\" xlink:href=\"#m92d6d711d3\" y=\"235.238437\"/>\r\n      </g>\r\n     </g>\r\n     <g id=\"text_3\">\r\n      <!-- 2014 -->\r\n      <defs>\r\n       <path d=\"M 37.796875 64.3125 \r\nL 12.890625 25.390625 \r\nL 37.796875 25.390625 \r\nz\r\nM 35.203125 72.90625 \r\nL 47.609375 72.90625 \r\nL 47.609375 25.390625 \r\nL 58.015625 25.390625 \r\nL 58.015625 17.1875 \r\nL 47.609375 17.1875 \r\nL 47.609375 0 \r\nL 37.796875 0 \r\nL 37.796875 17.1875 \r\nL 4.890625 17.1875 \r\nL 4.890625 26.703125 \r\nz\r\n\" id=\"DejaVuSans-52\"/>\r\n      </defs>\r\n      <g transform=\"translate(167.902637 249.836875)scale(0.1 -0.1)\">\r\n       <use xlink:href=\"#DejaVuSans-50\"/>\r\n       <use x=\"63.623047\" xlink:href=\"#DejaVuSans-48\"/>\r\n       <use x=\"127.246094\" xlink:href=\"#DejaVuSans-49\"/>\r\n       <use x=\"190.869141\" xlink:href=\"#DejaVuSans-52\"/>\r\n      </g>\r\n     </g>\r\n    </g>\r\n    <g id=\"xtick_4\">\r\n     <g id=\"line2d_4\">\r\n      <g>\r\n       <use style=\"stroke:#000000;stroke-width:0.8;\" x=\"248.129588\" xlink:href=\"#m92d6d711d3\" y=\"235.238437\"/>\r\n      </g>\r\n     </g>\r\n     <g id=\"text_4\">\r\n      <!-- 2016 -->\r\n      <defs>\r\n       <path d=\"M 33.015625 40.375 \r\nQ 26.375 40.375 22.484375 35.828125 \r\nQ 18.609375 31.296875 18.609375 23.390625 \r\nQ 18.609375 15.53125 22.484375 10.953125 \r\nQ 26.375 6.390625 33.015625 6.390625 \r\nQ 39.65625 6.390625 43.53125 10.953125 \r\nQ 47.40625 15.53125 47.40625 23.390625 \r\nQ 47.40625 31.296875 43.53125 35.828125 \r\nQ 39.65625 40.375 33.015625 40.375 \r\nz\r\nM 52.59375 71.296875 \r\nL 52.59375 62.3125 \r\nQ 48.875 64.0625 45.09375 64.984375 \r\nQ 41.3125 65.921875 37.59375 65.921875 \r\nQ 27.828125 65.921875 22.671875 59.328125 \r\nQ 17.53125 52.734375 16.796875 39.40625 \r\nQ 19.671875 43.65625 24.015625 45.921875 \r\nQ 28.375 48.1875 33.59375 48.1875 \r\nQ 44.578125 48.1875 50.953125 41.515625 \r\nQ 57.328125 34.859375 57.328125 23.390625 \r\nQ 57.328125 12.15625 50.6875 5.359375 \r\nQ 44.046875 -1.421875 33.015625 -1.421875 \r\nQ 20.359375 -1.421875 13.671875 8.265625 \r\nQ 6.984375 17.96875 6.984375 36.375 \r\nQ 6.984375 53.65625 15.1875 63.9375 \r\nQ 23.390625 74.21875 37.203125 74.21875 \r\nQ 40.921875 74.21875 44.703125 73.484375 \r\nQ 48.484375 72.75 52.59375 71.296875 \r\nz\r\n\" id=\"DejaVuSans-54\"/>\r\n      </defs>\r\n      <g transform=\"translate(235.404588 249.836875)scale(0.1 -0.1)\">\r\n       <use xlink:href=\"#DejaVuSans-50\"/>\r\n       <use x=\"63.623047\" xlink:href=\"#DejaVuSans-48\"/>\r\n       <use x=\"127.246094\" xlink:href=\"#DejaVuSans-49\"/>\r\n       <use x=\"190.869141\" xlink:href=\"#DejaVuSans-54\"/>\r\n      </g>\r\n     </g>\r\n    </g>\r\n    <g id=\"xtick_5\">\r\n     <g id=\"line2d_5\">\r\n      <g>\r\n       <use style=\"stroke:#000000;stroke-width:0.8;\" x=\"315.63154\" xlink:href=\"#m92d6d711d3\" y=\"235.238437\"/>\r\n      </g>\r\n     </g>\r\n     <g id=\"text_5\">\r\n      <!-- 2018 -->\r\n      <defs>\r\n       <path d=\"M 31.78125 34.625 \r\nQ 24.75 34.625 20.71875 30.859375 \r\nQ 16.703125 27.09375 16.703125 20.515625 \r\nQ 16.703125 13.921875 20.71875 10.15625 \r\nQ 24.75 6.390625 31.78125 6.390625 \r\nQ 38.8125 6.390625 42.859375 10.171875 \r\nQ 46.921875 13.96875 46.921875 20.515625 \r\nQ 46.921875 27.09375 42.890625 30.859375 \r\nQ 38.875 34.625 31.78125 34.625 \r\nz\r\nM 21.921875 38.8125 \r\nQ 15.578125 40.375 12.03125 44.71875 \r\nQ 8.5 49.078125 8.5 55.328125 \r\nQ 8.5 64.0625 14.71875 69.140625 \r\nQ 20.953125 74.21875 31.78125 74.21875 \r\nQ 42.671875 74.21875 48.875 69.140625 \r\nQ 55.078125 64.0625 55.078125 55.328125 \r\nQ 55.078125 49.078125 51.53125 44.71875 \r\nQ 48 40.375 41.703125 38.8125 \r\nQ 48.828125 37.15625 52.796875 32.3125 \r\nQ 56.78125 27.484375 56.78125 20.515625 \r\nQ 56.78125 9.90625 50.3125 4.234375 \r\nQ 43.84375 -1.421875 31.78125 -1.421875 \r\nQ 19.734375 -1.421875 13.25 4.234375 \r\nQ 6.78125 9.90625 6.78125 20.515625 \r\nQ 6.78125 27.484375 10.78125 32.3125 \r\nQ 14.796875 37.15625 21.921875 38.8125 \r\nz\r\nM 18.3125 54.390625 \r\nQ 18.3125 48.734375 21.84375 45.5625 \r\nQ 25.390625 42.390625 31.78125 42.390625 \r\nQ 38.140625 42.390625 41.71875 45.5625 \r\nQ 45.3125 48.734375 45.3125 54.390625 \r\nQ 45.3125 60.0625 41.71875 63.234375 \r\nQ 38.140625 66.40625 31.78125 66.40625 \r\nQ 25.390625 66.40625 21.84375 63.234375 \r\nQ 18.3125 60.0625 18.3125 54.390625 \r\nz\r\n\" id=\"DejaVuSans-56\"/>\r\n      </defs>\r\n      <g transform=\"translate(302.90654 249.836875)scale(0.1 -0.1)\">\r\n       <use xlink:href=\"#DejaVuSans-50\"/>\r\n       <use x=\"63.623047\" xlink:href=\"#DejaVuSans-48\"/>\r\n       <use x=\"127.246094\" xlink:href=\"#DejaVuSans-49\"/>\r\n       <use x=\"190.869141\" xlink:href=\"#DejaVuSans-56\"/>\r\n      </g>\r\n     </g>\r\n    </g>\r\n   </g>\r\n   <g id=\"matplotlib.axis_2\">\r\n    <g id=\"ytick_1\">\r\n     <g id=\"line2d_6\">\r\n      <defs>\r\n       <path d=\"M 0 0 \r\nL -3.5 0 \r\n\" id=\"ma3f5a614b7\" style=\"stroke:#000000;stroke-width:0.8;\"/>\r\n      </defs>\r\n      <g>\r\n       <use style=\"stroke:#000000;stroke-width:0.8;\" x=\"30.103125\" xlink:href=\"#ma3f5a614b7\" y=\"212.841958\"/>\r\n      </g>\r\n     </g>\r\n     <g id=\"text_6\">\r\n      <!-- 0.8 -->\r\n      <defs>\r\n       <path d=\"M 10.6875 12.40625 \r\nL 21 12.40625 \r\nL 21 0 \r\nL 10.6875 0 \r\nz\r\n\" id=\"DejaVuSans-46\"/>\r\n      </defs>\r\n      <g transform=\"translate(7.2 216.641176)scale(0.1 -0.1)\">\r\n       <use xlink:href=\"#DejaVuSans-48\"/>\r\n       <use x=\"63.623047\" xlink:href=\"#DejaVuSans-46\"/>\r\n       <use x=\"95.410156\" xlink:href=\"#DejaVuSans-56\"/>\r\n      </g>\r\n     </g>\r\n    </g>\r\n    <g id=\"ytick_2\">\r\n     <g id=\"line2d_7\">\r\n      <g>\r\n       <use style=\"stroke:#000000;stroke-width:0.8;\" x=\"30.103125\" xlink:href=\"#ma3f5a614b7\" y=\"180.101193\"/>\r\n      </g>\r\n     </g>\r\n     <g id=\"text_7\">\r\n      <!-- 0.9 -->\r\n      <defs>\r\n       <path d=\"M 10.984375 1.515625 \r\nL 10.984375 10.5 \r\nQ 14.703125 8.734375 18.5 7.8125 \r\nQ 22.3125 6.890625 25.984375 6.890625 \r\nQ 35.75 6.890625 40.890625 13.453125 \r\nQ 46.046875 20.015625 46.78125 33.40625 \r\nQ 43.953125 29.203125 39.59375 26.953125 \r\nQ 35.25 24.703125 29.984375 24.703125 \r\nQ 19.046875 24.703125 12.671875 31.3125 \r\nQ 6.296875 37.9375 6.296875 49.421875 \r\nQ 6.296875 60.640625 12.9375 67.421875 \r\nQ 19.578125 74.21875 30.609375 74.21875 \r\nQ 43.265625 74.21875 49.921875 64.515625 \r\nQ 56.59375 54.828125 56.59375 36.375 \r\nQ 56.59375 19.140625 48.40625 8.859375 \r\nQ 40.234375 -1.421875 26.421875 -1.421875 \r\nQ 22.703125 -1.421875 18.890625 -0.6875 \r\nQ 15.09375 0.046875 10.984375 1.515625 \r\nz\r\nM 30.609375 32.421875 \r\nQ 37.25 32.421875 41.125 36.953125 \r\nQ 45.015625 41.5 45.015625 49.421875 \r\nQ 45.015625 57.28125 41.125 61.84375 \r\nQ 37.25 66.40625 30.609375 66.40625 \r\nQ 23.96875 66.40625 20.09375 61.84375 \r\nQ 16.21875 57.28125 16.21875 49.421875 \r\nQ 16.21875 41.5 20.09375 36.953125 \r\nQ 23.96875 32.421875 30.609375 32.421875 \r\nz\r\n\" id=\"DejaVuSans-57\"/>\r\n      </defs>\r\n      <g transform=\"translate(7.2 183.900411)scale(0.1 -0.1)\">\r\n       <use xlink:href=\"#DejaVuSans-48\"/>\r\n       <use x=\"63.623047\" xlink:href=\"#DejaVuSans-46\"/>\r\n       <use x=\"95.410156\" xlink:href=\"#DejaVuSans-57\"/>\r\n      </g>\r\n     </g>\r\n    </g>\r\n    <g id=\"ytick_3\">\r\n     <g id=\"line2d_8\">\r\n      <g>\r\n       <use style=\"stroke:#000000;stroke-width:0.8;\" x=\"30.103125\" xlink:href=\"#ma3f5a614b7\" y=\"147.360428\"/>\r\n      </g>\r\n     </g>\r\n     <g id=\"text_8\">\r\n      <!-- 1.0 -->\r\n      <g transform=\"translate(7.2 151.159646)scale(0.1 -0.1)\">\r\n       <use xlink:href=\"#DejaVuSans-49\"/>\r\n       <use x=\"63.623047\" xlink:href=\"#DejaVuSans-46\"/>\r\n       <use x=\"95.410156\" xlink:href=\"#DejaVuSans-48\"/>\r\n      </g>\r\n     </g>\r\n    </g>\r\n    <g id=\"ytick_4\">\r\n     <g id=\"line2d_9\">\r\n      <g>\r\n       <use style=\"stroke:#000000;stroke-width:0.8;\" x=\"30.103125\" xlink:href=\"#ma3f5a614b7\" y=\"114.619662\"/>\r\n      </g>\r\n     </g>\r\n     <g id=\"text_9\">\r\n      <!-- 1.1 -->\r\n      <g transform=\"translate(7.2 118.418881)scale(0.1 -0.1)\">\r\n       <use xlink:href=\"#DejaVuSans-49\"/>\r\n       <use x=\"63.623047\" xlink:href=\"#DejaVuSans-46\"/>\r\n       <use x=\"95.410156\" xlink:href=\"#DejaVuSans-49\"/>\r\n      </g>\r\n     </g>\r\n    </g>\r\n    <g id=\"ytick_5\">\r\n     <g id=\"line2d_10\">\r\n      <g>\r\n       <use style=\"stroke:#000000;stroke-width:0.8;\" x=\"30.103125\" xlink:href=\"#ma3f5a614b7\" y=\"81.878897\"/>\r\n      </g>\r\n     </g>\r\n     <g id=\"text_10\">\r\n      <!-- 1.2 -->\r\n      <g transform=\"translate(7.2 85.678116)scale(0.1 -0.1)\">\r\n       <use xlink:href=\"#DejaVuSans-49\"/>\r\n       <use x=\"63.623047\" xlink:href=\"#DejaVuSans-46\"/>\r\n       <use x=\"95.410156\" xlink:href=\"#DejaVuSans-50\"/>\r\n      </g>\r\n     </g>\r\n    </g>\r\n    <g id=\"ytick_6\">\r\n     <g id=\"line2d_11\">\r\n      <g>\r\n       <use style=\"stroke:#000000;stroke-width:0.8;\" x=\"30.103125\" xlink:href=\"#ma3f5a614b7\" y=\"49.138132\"/>\r\n      </g>\r\n     </g>\r\n     <g id=\"text_11\">\r\n      <!-- 1.3 -->\r\n      <defs>\r\n       <path d=\"M 40.578125 39.3125 \r\nQ 47.65625 37.796875 51.625 33 \r\nQ 55.609375 28.21875 55.609375 21.1875 \r\nQ 55.609375 10.40625 48.1875 4.484375 \r\nQ 40.765625 -1.421875 27.09375 -1.421875 \r\nQ 22.515625 -1.421875 17.65625 -0.515625 \r\nQ 12.796875 0.390625 7.625 2.203125 \r\nL 7.625 11.71875 \r\nQ 11.71875 9.328125 16.59375 8.109375 \r\nQ 21.484375 6.890625 26.8125 6.890625 \r\nQ 36.078125 6.890625 40.9375 10.546875 \r\nQ 45.796875 14.203125 45.796875 21.1875 \r\nQ 45.796875 27.640625 41.28125 31.265625 \r\nQ 36.765625 34.90625 28.71875 34.90625 \r\nL 20.21875 34.90625 \r\nL 20.21875 43.015625 \r\nL 29.109375 43.015625 \r\nQ 36.375 43.015625 40.234375 45.921875 \r\nQ 44.09375 48.828125 44.09375 54.296875 \r\nQ 44.09375 59.90625 40.109375 62.90625 \r\nQ 36.140625 65.921875 28.71875 65.921875 \r\nQ 24.65625 65.921875 20.015625 65.03125 \r\nQ 15.375 64.15625 9.8125 62.3125 \r\nL 9.8125 71.09375 \r\nQ 15.4375 72.65625 20.34375 73.4375 \r\nQ 25.25 74.21875 29.59375 74.21875 \r\nQ 40.828125 74.21875 47.359375 69.109375 \r\nQ 53.90625 64.015625 53.90625 55.328125 \r\nQ 53.90625 49.265625 50.4375 45.09375 \r\nQ 46.96875 40.921875 40.578125 39.3125 \r\nz\r\n\" id=\"DejaVuSans-51\"/>\r\n      </defs>\r\n      <g transform=\"translate(7.2 52.937351)scale(0.1 -0.1)\">\r\n       <use xlink:href=\"#DejaVuSans-49\"/>\r\n       <use x=\"63.623047\" xlink:href=\"#DejaVuSans-46\"/>\r\n       <use x=\"95.410156\" xlink:href=\"#DejaVuSans-51\"/>\r\n      </g>\r\n     </g>\r\n    </g>\r\n    <g id=\"text_12\">\r\n     <!-- 1e9 -->\r\n     <defs>\r\n      <path d=\"M 56.203125 29.59375 \r\nL 56.203125 25.203125 \r\nL 14.890625 25.203125 \r\nQ 15.484375 15.921875 20.484375 11.0625 \r\nQ 25.484375 6.203125 34.421875 6.203125 \r\nQ 39.59375 6.203125 44.453125 7.46875 \r\nQ 49.3125 8.734375 54.109375 11.28125 \r\nL 54.109375 2.78125 \r\nQ 49.265625 0.734375 44.1875 -0.34375 \r\nQ 39.109375 -1.421875 33.890625 -1.421875 \r\nQ 20.796875 -1.421875 13.15625 6.1875 \r\nQ 5.515625 13.8125 5.515625 26.8125 \r\nQ 5.515625 40.234375 12.765625 48.109375 \r\nQ 20.015625 56 32.328125 56 \r\nQ 43.359375 56 49.78125 48.890625 \r\nQ 56.203125 41.796875 56.203125 29.59375 \r\nz\r\nM 47.21875 32.234375 \r\nQ 47.125 39.59375 43.09375 43.984375 \r\nQ 39.0625 48.390625 32.421875 48.390625 \r\nQ 24.90625 48.390625 20.390625 44.140625 \r\nQ 15.875 39.890625 15.1875 32.171875 \r\nz\r\n\" id=\"DejaVuSans-101\"/>\r\n     </defs>\r\n     <g transform=\"translate(30.103125 14.798437)scale(0.1 -0.1)\">\r\n      <use xlink:href=\"#DejaVuSans-49\"/>\r\n      <use x=\"63.623047\" xlink:href=\"#DejaVuSans-101\"/>\r\n      <use x=\"125.146484\" xlink:href=\"#DejaVuSans-57\"/>\r\n     </g>\r\n    </g>\r\n   </g>\r\n   <g id=\"patch_3\">\r\n    <path d=\"M 30.103125 235.238438 \r\nL 30.103125 17.798437 \r\n\" style=\"fill:none;stroke:#000000;stroke-linecap:square;stroke-linejoin:miter;stroke-width:0.8;\"/>\r\n   </g>\r\n   <g id=\"patch_4\">\r\n    <path d=\"M 364.903125 235.238438 \r\nL 364.903125 17.798437 \r\n\" style=\"fill:none;stroke:#000000;stroke-linecap:square;stroke-linejoin:miter;stroke-width:0.8;\"/>\r\n   </g>\r\n   <g id=\"patch_5\">\r\n    <path d=\"M 30.103125 235.238437 \r\nL 364.903125 235.238437 \r\n\" style=\"fill:none;stroke:#000000;stroke-linecap:square;stroke-linejoin:miter;stroke-width:0.8;\"/>\r\n   </g>\r\n   <g id=\"patch_6\">\r\n    <path d=\"M 30.103125 17.798437 \r\nL 364.903125 17.798437 \r\n\" style=\"fill:none;stroke:#000000;stroke-linecap:square;stroke-linejoin:miter;stroke-width:0.8;\"/>\r\n   </g>\r\n  </g>\r\n </g>\r\n <defs>\r\n  <clipPath id=\"pc90853ba4e\">\r\n   <rect height=\"217.44\" width=\"334.8\" x=\"30.103125\" y=\"17.798437\"/>\r\n  </clipPath>\r\n </defs>\r\n</svg>\r\n",
      "image/png": "[encoded data removed]"
     },
     "metadata": {
      "needs_background": "light"
     }
    }
   ],
   "source": [
    "plt.figure()\n",
    "plt.scatter(X,yhat,color='red')\n",
    "plt.show()"
   ]
  },
  {
   "cell_type": "code",
   "execution_count": 36,
   "metadata": {},
   "outputs": [
    {
     "output_type": "execute_result",
     "data": {
      "text/plain": "Index(['RequestID', 'StartYear', 'StartDate', 'EndDate', 'AgencyName',\n       'TypeOfNoticeDescription', 'CategoryDescription', 'ShortTitle',\n       'SelectionMethodDescription', 'SectionName',\n       'SpecialCaseReasonDescription', 'PIN', 'DueDate', 'AddressToRequest',\n       'ContactName', 'ContactPhone', 'Email', 'ContractAmount', 'ContactFax',\n       'AdditionalDescription1', 'AdditionalDesctription2',\n       'AdditionalDescription3', 'OtherInfo1', 'OtherInfo2', 'OtherInfo3',\n       'VendorName', 'VendorAddress', 'Printout1', 'Printout2', 'Printout3',\n       'DocumentLinks', 'EventDate', 'EventBuildingName',\n       'EventStreetAddress1', 'EventStreetAddress2', 'EventCity',\n       'EventStateCode', 'EventZipCode'],\n      dtype='object')"
     },
     "metadata": {},
     "execution_count": 36
    }
   ],
   "source": [
    "data.columns"
   ]
  },
  {
   "cell_type": "code",
   "execution_count": 37,
   "metadata": {},
   "outputs": [],
   "source": [
    "number_of_contracts = pd.DataFrame(data['AgencyName'].value_counts())"
   ]
  },
  {
   "cell_type": "code",
   "execution_count": 38,
   "metadata": {},
   "outputs": [],
   "source": [
    "number_of_contracts = number_of_contracts.reset_index()"
   ]
  },
  {
   "cell_type": "code",
   "execution_count": 39,
   "metadata": {},
   "outputs": [
    {
     "output_type": "execute_result",
     "data": {
      "text/plain": "                                          AgencyName  Number of Contracts\n0                   Citywide Administrative Services                 5098\n1                          Health and Mental Hygiene                 2145\n2  Dept Of Social Svcs/Human Resources Administra...                 1822\n3                            Design and Construction                 1454\n4             Administration for Children's Services                  892",
      "text/html": "<div>\n<style scoped>\n    .dataframe tbody tr th:only-of-type {\n        vertical-align: middle;\n    }\n\n    .dataframe tbody tr th {\n        vertical-align: top;\n    }\n\n    .dataframe thead th {\n        text-align: right;\n    }\n</style>\n<table border=\"1\" class=\"dataframe\">\n  <thead>\n    <tr style=\"text-align: right;\">\n      <th></th>\n      <th>AgencyName</th>\n      <th>Number of Contracts</th>\n    </tr>\n  </thead>\n  <tbody>\n    <tr>\n      <th>0</th>\n      <td>Citywide Administrative Services</td>\n      <td>5098</td>\n    </tr>\n    <tr>\n      <th>1</th>\n      <td>Health and Mental Hygiene</td>\n      <td>2145</td>\n    </tr>\n    <tr>\n      <th>2</th>\n      <td>Dept Of Social Svcs/Human Resources Administra...</td>\n      <td>1822</td>\n    </tr>\n    <tr>\n      <th>3</th>\n      <td>Design and Construction</td>\n      <td>1454</td>\n    </tr>\n    <tr>\n      <th>4</th>\n      <td>Administration for Children's Services</td>\n      <td>892</td>\n    </tr>\n  </tbody>\n</table>\n</div>"
     },
     "metadata": {},
     "execution_count": 39
    }
   ],
   "source": [
    "number_of_contracts.columns = ['AgencyName','Number of Contracts']\n",
    "number_of_contracts.head()"
   ]
  },
  {
   "cell_type": "code",
   "execution_count": 40,
   "metadata": {},
   "outputs": [],
   "source": [
    "df_mean_contracts = data.groupby('AgencyName',as_index=False).sum()"
   ]
  },
  {
   "cell_type": "code",
   "execution_count": 41,
   "metadata": {},
   "outputs": [
    {
     "output_type": "execute_result",
     "data": {
      "text/plain": "                               AgencyName  ContractAmount\n0  Administration for Children's Services    6.165211e+09\n1      Administrative Trials and Hearings    1.348687e+07\n2                                   Aging    5.742536e+08\n3             Battery Park City Authority    2.945157e+06\n4                     Board of Correction    9.926330e+04",
      "text/html": "<div>\n<style scoped>\n    .dataframe tbody tr th:only-of-type {\n        vertical-align: middle;\n    }\n\n    .dataframe tbody tr th {\n        vertical-align: top;\n    }\n\n    .dataframe thead th {\n        text-align: right;\n    }\n</style>\n<table border=\"1\" class=\"dataframe\">\n  <thead>\n    <tr style=\"text-align: right;\">\n      <th></th>\n      <th>AgencyName</th>\n      <th>ContractAmount</th>\n    </tr>\n  </thead>\n  <tbody>\n    <tr>\n      <th>0</th>\n      <td>Administration for Children's Services</td>\n      <td>6.165211e+09</td>\n    </tr>\n    <tr>\n      <th>1</th>\n      <td>Administrative Trials and Hearings</td>\n      <td>1.348687e+07</td>\n    </tr>\n    <tr>\n      <th>2</th>\n      <td>Aging</td>\n      <td>5.742536e+08</td>\n    </tr>\n    <tr>\n      <th>3</th>\n      <td>Battery Park City Authority</td>\n      <td>2.945157e+06</td>\n    </tr>\n    <tr>\n      <th>4</th>\n      <td>Board of Correction</td>\n      <td>9.926330e+04</td>\n    </tr>\n  </tbody>\n</table>\n</div>"
     },
     "metadata": {},
     "execution_count": 41
    }
   ],
   "source": [
    "df_mean_contracts2 = df_mean_contracts[['AgencyName','ContractAmount']]\n",
    "df_mean_contracts2.head()"
   ]
  },
  {
   "cell_type": "code",
   "execution_count": 42,
   "metadata": {},
   "outputs": [
    {
     "output_type": "execute_result",
     "data": {
      "text/plain": "                               AgencyName  ContractAmount  Number of Contracts\n0  Administration for Children's Services    6.165211e+09                  892\n1      Administrative Trials and Hearings    1.348687e+07                   17\n2                                   Aging    5.742536e+08                  548\n3             Battery Park City Authority    2.945157e+06                    7\n4                     Board of Correction    9.926330e+04                    2",
      "text/html": "<div>\n<style scoped>\n    .dataframe tbody tr th:only-of-type {\n        vertical-align: middle;\n    }\n\n    .dataframe tbody tr th {\n        vertical-align: top;\n    }\n\n    .dataframe thead th {\n        text-align: right;\n    }\n</style>\n<table border=\"1\" class=\"dataframe\">\n  <thead>\n    <tr style=\"text-align: right;\">\n      <th></th>\n      <th>AgencyName</th>\n      <th>ContractAmount</th>\n      <th>Number of Contracts</th>\n    </tr>\n  </thead>\n  <tbody>\n    <tr>\n      <th>0</th>\n      <td>Administration for Children's Services</td>\n      <td>6.165211e+09</td>\n      <td>892</td>\n    </tr>\n    <tr>\n      <th>1</th>\n      <td>Administrative Trials and Hearings</td>\n      <td>1.348687e+07</td>\n      <td>17</td>\n    </tr>\n    <tr>\n      <th>2</th>\n      <td>Aging</td>\n      <td>5.742536e+08</td>\n      <td>548</td>\n    </tr>\n    <tr>\n      <th>3</th>\n      <td>Battery Park City Authority</td>\n      <td>2.945157e+06</td>\n      <td>7</td>\n    </tr>\n    <tr>\n      <th>4</th>\n      <td>Board of Correction</td>\n      <td>9.926330e+04</td>\n      <td>2</td>\n    </tr>\n  </tbody>\n</table>\n</div>"
     },
     "metadata": {},
     "execution_count": 42
    }
   ],
   "source": [
    "df_mean_contract_merged = df_mean_contracts2.join(number_of_contracts.set_index('AgencyName'),on='AgencyName')\n",
    "df_mean_contract_merged.head()"
   ]
  },
  {
   "cell_type": "code",
   "execution_count": 43,
   "metadata": {},
   "outputs": [],
   "source": [
    "df_mean_contract_merged['Mean Amount per Contract'] = df_mean_contract_merged['ContractAmount']/df_mean_contract_merged['Number of Contracts']"
   ]
  },
  {
   "cell_type": "code",
   "execution_count": 44,
   "metadata": {},
   "outputs": [],
   "source": [
    "df_mean_contract_merged  = df_mean_contract_merged.sort_values('Mean Amount per Contract', ascending=False)"
   ]
  },
  {
   "cell_type": "code",
   "execution_count": 73,
   "metadata": {},
   "outputs": [
    {
     "output_type": "execute_result",
     "data": {
      "text/plain": "8.712057847692325"
     },
     "metadata": {},
     "execution_count": 73
    }
   ],
   "source": [
    "df_mean_contract_merged['Mean Amount per Contract'][0]/df_mean_contract_merged['Mean Amount per Contract'][1]"
   ]
  },
  {
   "cell_type": "code",
   "execution_count": 132,
   "metadata": {},
   "outputs": [],
   "source": [
    "data6 = data[data['StartYear']==2018]"
   ]
  },
  {
   "cell_type": "code",
   "execution_count": 133,
   "metadata": {},
   "outputs": [],
   "source": [
    "data_filtered = data6[['StartYear','VendorAddress','ContractAmount']]"
   ]
  },
  {
   "cell_type": "code",
   "execution_count": 134,
   "metadata": {
    "tags": []
   },
   "outputs": [],
   "source": [
    "vendor_pincode = []\n",
    "for address in data_filtered['VendorAddress']:\n",
    "    i = str(address).split(' ')[-1]\n",
    "    i = i.split('.')[0]\n",
    "    vendor_pincode.append(i.split('-')[0])   "
   ]
  },
  {
   "cell_type": "code",
   "execution_count": 77,
   "metadata": {},
   "outputs": [],
   "source": [
    "url = 'https://www.health.ny.gov/statistics/cancer/registry/appendix/neighborhoods.htm'\n",
    "\n",
    "data_pincode = pd.read_html(url)"
   ]
  },
  {
   "cell_type": "code",
   "execution_count": 125,
   "metadata": {
    "tags": []
   },
   "outputs": [],
   "source": [
    "#for zc in df_vendor_pincode['Vendor Pincode']:\n",
    "ny_pc = []\n",
    "for pc in data_pincode[0]['ZIP Codes']:\n",
    "    pc = pc.split(',')\n",
    "    for j in pc:\n",
    "        j = j.strip()\n",
    "        ny_pc.append(j)"
   ]
  },
  {
   "cell_type": "code",
   "execution_count": 149,
   "metadata": {
    "tags": []
   },
   "outputs": [],
   "source": [
    "area = []\n",
    "for zc in df_vendor_pincode['Vendor Pincode']:\n",
    "    if zc in ny_pc:\n",
    "        area.append('NYC')\n",
    "    else:\n",
    "        area.append('Other')\n"
   ]
  },
  {
   "cell_type": "code",
   "execution_count": 152,
   "metadata": {
    "tags": []
   },
   "outputs": [],
   "source": [
    "data_filtered['Area'] = area\n",
    "data_filtered.insert(2,'Vendor Pincode',df_vendor_pincode)"
   ]
  },
  {
   "cell_type": "code",
   "execution_count": 153,
   "metadata": {},
   "outputs": [
    {
     "output_type": "execute_result",
     "data": {
      "text/plain": "     StartYear                                      VendorAddress  \\\n156       2018   100 Sylvan Parkway, Suite 200, Amherst, NY 14228   \n161       2018  800 North Glebe Road Suite 300 Arlington VA 22203   \n184       2018          114 Harbour Lane, West Bayshore, NY 11706   \n188       2018  27-01 Queens Plaza North, Suite 800, Long Isla...   \n197       2018   22 West 27th Street, Fl # 5, New York, NY  10001   \n\n    Vendor Pincode  ContractAmount   Area  \n156          11001       3695800.0  Other  \n161          10018       7575925.0  Other  \n184          10013        135200.0  Other  \n188          11203       5458941.0    NYC  \n197          08873         90000.0    NYC  ",
      "text/html": "<div>\n<style scoped>\n    .dataframe tbody tr th:only-of-type {\n        vertical-align: middle;\n    }\n\n    .dataframe tbody tr th {\n        vertical-align: top;\n    }\n\n    .dataframe thead th {\n        text-align: right;\n    }\n</style>\n<table border=\"1\" class=\"dataframe\">\n  <thead>\n    <tr style=\"text-align: right;\">\n      <th></th>\n      <th>StartYear</th>\n      <th>VendorAddress</th>\n      <th>Vendor Pincode</th>\n      <th>ContractAmount</th>\n      <th>Area</th>\n    </tr>\n  </thead>\n  <tbody>\n    <tr>\n      <th>156</th>\n      <td>2018</td>\n      <td>100 Sylvan Parkway, Suite 200, Amherst, NY 14228</td>\n      <td>11001</td>\n      <td>3695800.0</td>\n      <td>Other</td>\n    </tr>\n    <tr>\n      <th>161</th>\n      <td>2018</td>\n      <td>800 North Glebe Road Suite 300 Arlington VA 22203</td>\n      <td>10018</td>\n      <td>7575925.0</td>\n      <td>Other</td>\n    </tr>\n    <tr>\n      <th>184</th>\n      <td>2018</td>\n      <td>114 Harbour Lane, West Bayshore, NY 11706</td>\n      <td>10013</td>\n      <td>135200.0</td>\n      <td>Other</td>\n    </tr>\n    <tr>\n      <th>188</th>\n      <td>2018</td>\n      <td>27-01 Queens Plaza North, Suite 800, Long Isla...</td>\n      <td>11203</td>\n      <td>5458941.0</td>\n      <td>NYC</td>\n    </tr>\n    <tr>\n      <th>197</th>\n      <td>2018</td>\n      <td>22 West 27th Street, Fl # 5, New York, NY  10001</td>\n      <td>08873</td>\n      <td>90000.0</td>\n      <td>NYC</td>\n    </tr>\n  </tbody>\n</table>\n</div>"
     },
     "metadata": {},
     "execution_count": 153
    }
   ],
   "source": [
    "data_filtered.head()"
   ]
  },
  {
   "cell_type": "code",
   "execution_count": 159,
   "metadata": {},
   "outputs": [
    {
     "output_type": "execute_result",
     "data": {
      "text/plain": "    Area  ContractAmount\n0    NYC    5.872252e+09\n1  Other    1.287087e+10",
      "text/html": "<div>\n<style scoped>\n    .dataframe tbody tr th:only-of-type {\n        vertical-align: middle;\n    }\n\n    .dataframe tbody tr th {\n        vertical-align: top;\n    }\n\n    .dataframe thead th {\n        text-align: right;\n    }\n</style>\n<table border=\"1\" class=\"dataframe\">\n  <thead>\n    <tr style=\"text-align: right;\">\n      <th></th>\n      <th>Area</th>\n      <th>ContractAmount</th>\n    </tr>\n  </thead>\n  <tbody>\n    <tr>\n      <th>0</th>\n      <td>NYC</td>\n      <td>5.872252e+09</td>\n    </tr>\n    <tr>\n      <th>1</th>\n      <td>Other</td>\n      <td>1.287087e+10</td>\n    </tr>\n  </tbody>\n</table>\n</div>"
     },
     "metadata": {},
     "execution_count": 159
    }
   ],
   "source": [
    "grouped_areawise = data_filtered.groupby('Area', as_index=False).sum()\n",
    "grouped_areawise.drop('StartYear',1)"
   ]
  },
  {
   "cell_type": "code",
   "execution_count": 160,
   "metadata": {},
   "outputs": [
    {
     "output_type": "execute_result",
     "data": {
      "text/plain": "0.31330169907393174"
     },
     "metadata": {},
     "execution_count": 160
    }
   ],
   "source": [
    "grouped_areawise['ContractAmount'][0]/(grouped_areawise['ContractAmount'][0]+grouped_areawise['ContractAmount'][1])"
   ]
  },
  {
   "cell_type": "code",
   "execution_count": null,
   "metadata": {},
   "outputs": [],
   "source": []
  }
 ]
}